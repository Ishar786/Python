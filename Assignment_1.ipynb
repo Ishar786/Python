{
  "cells": [
    {
      "cell_type": "markdown",
      "id": "4c8c52d8-db32-44f5-b5b6-c3a35274f2f6",
      "metadata": {
        "id": "4c8c52d8-db32-44f5-b5b6-c3a35274f2f6"
      },
      "source": [
        "# Hands-on Practice exercises"
      ]
    },
    {
      "cell_type": "markdown",
      "id": "4cf8a8c3-55ca-481a-9fdf-cf1710792aea",
      "metadata": {
        "id": "4cf8a8c3-55ca-481a-9fdf-cf1710792aea"
      },
      "source": [
        "1. Create a tuple with single value '5'"
      ]
    },
    {
      "cell_type": "code",
      "source": [
        "tuple1 = (5)"
      ],
      "metadata": {
        "id": "NST322fz7WPn"
      },
      "id": "NST322fz7WPn",
      "execution_count": 2,
      "outputs": []
    },
    {
      "cell_type": "code",
      "source": [
        "tuple1"
      ],
      "metadata": {
        "id": "DfH0jMSP7gIQ",
        "outputId": "57403d87-4139-4a40-d695-6372622a246c",
        "colab": {
          "base_uri": "https://localhost:8080/"
        }
      },
      "id": "DfH0jMSP7gIQ",
      "execution_count": 3,
      "outputs": [
        {
          "output_type": "execute_result",
          "data": {
            "text/plain": [
              "5"
            ]
          },
          "metadata": {},
          "execution_count": 3
        }
      ]
    },
    {
      "cell_type": "markdown",
      "id": "e8e3f5db-1d9a-4d69-a417-124e4a936ae4",
      "metadata": {
        "id": "e8e3f5db-1d9a-4d69-a417-124e4a936ae4"
      },
      "source": [
        "2. Write a program that takes two dictionaries and concatenates them into one dictionary"
      ]
    },
    {
      "cell_type": "code",
      "source": [
        "# Write a program that takes two dictionaries and concatenates them into one dictionary\n",
        "dict1 = {1:20, 2:40}\n",
        "dict2 = {3:60, 4:80}\n",
        "dict3 = dict1 | dict2\n",
        "dict3"
      ],
      "metadata": {
        "id": "FAP3mrBr7kBZ",
        "outputId": "ba983fe2-a1a2-42f1-826b-09db797db33b",
        "colab": {
          "base_uri": "https://localhost:8080/"
        }
      },
      "id": "FAP3mrBr7kBZ",
      "execution_count": 10,
      "outputs": [
        {
          "output_type": "execute_result",
          "data": {
            "text/plain": [
              "{1: 20, 2: 40, 3: 60, 4: 80}"
            ]
          },
          "metadata": {},
          "execution_count": 10
        }
      ]
    },
    {
      "cell_type": "markdown",
      "id": "57142e0b-6b12-4ac7-bf29-8c3eaf16b5ec",
      "metadata": {
        "id": "57142e0b-6b12-4ac7-bf29-8c3eaf16b5ec"
      },
      "source": [
        "Use the below dictionaries:\n",
        "\n",
        "dictionary_1 = {'A':1, 'B':2}\n",
        "\n",
        "dictionary_2 = {'C':3}"
      ]
    },
    {
      "cell_type": "code",
      "source": [
        "dictionary_1 = {'A':1, 'B':2}\n",
        "dictionary_2 = {'C':3}\n",
        "dictionary_3 = dictionary_1 | dictionary_2\n",
        "dictionary_3"
      ],
      "metadata": {
        "id": "7ADPE-Ml9eCB",
        "outputId": "a42f71f1-2ed5-448b-fc7f-bf79c9841f5b",
        "colab": {
          "base_uri": "https://localhost:8080/"
        }
      },
      "id": "7ADPE-Ml9eCB",
      "execution_count": 11,
      "outputs": [
        {
          "output_type": "execute_result",
          "data": {
            "text/plain": [
              "{'A': 1, 'B': 2, 'C': 3}"
            ]
          },
          "metadata": {},
          "execution_count": 11
        }
      ]
    },
    {
      "cell_type": "markdown",
      "id": "0d1ab29d-eac3-4b4d-b9ff-7baa6ca41597",
      "metadata": {
        "id": "0d1ab29d-eac3-4b4d-b9ff-7baa6ca41597"
      },
      "source": [
        "\n",
        "3. Check whether the set X and Y are disjoint or not"
      ]
    },
    {
      "cell_type": "markdown",
      "id": "d2f3d1b9-e8b2-498b-af47-0845796200e1",
      "metadata": {
        "id": "d2f3d1b9-e8b2-498b-af47-0845796200e1"
      },
      "source": [
        "Use the sets below (or create your own sets):\n",
        "\n",
        "Set X\n",
        "X = {4, 5, 11, 34, 4, 56, 44, 67, 67, 5, 12, 34, 16, 9, 22, 23, 56, 34, 33, 89, 78, 45, 33, 78, 34, 45, 12, 45, 56 }\n",
        "\n",
        "Set Y\n",
        "Y = {41, 52, 63, 56, 67, 45, 99, 56, 45, 23, 45, 63, 45, 56, 45, 55, 56, 56, 12, 86, 67, 55, 56, 34, 89}"
      ]
    },
    {
      "cell_type": "code",
      "source": [
        "X= {4, 5, 11, 34, 4, 56, 44, 67, 67, 5, 12, 34, 16, 9, 22, 23, 56, 34, 33, 89, 78, 45, 33, 78, 34, 45, 12, 45, 56 }\n",
        "\n",
        "Y= {41, 52, 63, 56, 67, 45, 99, 56, 45, 23, 45, 63, 45, 56, 45, 55, 56, 56, 12, 86, 67, 55, 56, 34, 89}\n",
        "\n",
        "X.isdisjoint(Y)\n",
        "if X.isdisjoint(Y) == True:\n",
        "    print(\"X and Y are disjoint\")\n",
        "else:\n",
        "    print(\"X and Y are not disjoint\")\n"
      ],
      "metadata": {
        "id": "ySWhDWmX-ToY",
        "outputId": "7e21b319-df5c-45e9-b7ef-023d5308e4f9",
        "colab": {
          "base_uri": "https://localhost:8080/"
        }
      },
      "id": "ySWhDWmX-ToY",
      "execution_count": 13,
      "outputs": [
        {
          "output_type": "stream",
          "name": "stdout",
          "text": [
            "X and Y are not disjoint\n"
          ]
        }
      ]
    },
    {
      "cell_type": "markdown",
      "id": "73e6f789-1ec3-4802-8559-20c072be5b05",
      "metadata": {
        "id": "73e6f789-1ec3-4802-8559-20c072be5b05"
      },
      "source": [
        "4. Retrieve the third element in the given list"
      ]
    },
    {
      "cell_type": "markdown",
      "id": "49b8ccc2-a8b7-4f60-bb0c-7d374531f34c",
      "metadata": {
        "id": "49b8ccc2-a8b7-4f60-bb0c-7d374531f34c"
      },
      "source": [
        "Use the list given below:\n",
        "\n",
        "num_list = [5, 3, 6, 1, 85, 23, 5, 13]"
      ]
    },
    {
      "cell_type": "code",
      "source": [
        "num_list = [5, 3, 6, 1, 85, 23, 5, 13]\n",
        "num_list[2]"
      ],
      "metadata": {
        "id": "zpGWRa7O_YdR",
        "outputId": "4e94796e-baac-48c1-c112-c87aa801a07a",
        "colab": {
          "base_uri": "https://localhost:8080/"
        }
      },
      "id": "zpGWRa7O_YdR",
      "execution_count": 14,
      "outputs": [
        {
          "output_type": "execute_result",
          "data": {
            "text/plain": [
              "6"
            ]
          },
          "metadata": {},
          "execution_count": 14
        }
      ]
    },
    {
      "cell_type": "markdown",
      "id": "daaab2e4-00fb-4bcb-a496-67b6ca2de188",
      "metadata": {
        "id": "daaab2e4-00fb-4bcb-a496-67b6ca2de188"
      },
      "source": [
        "\n",
        "5. Count the occurance of number -6 in the given tuple"
      ]
    },
    {
      "cell_type": "markdown",
      "id": "127e9bf9-a11a-4b6b-bb11-ffecb13569a7",
      "metadata": {
        "id": "127e9bf9-a11a-4b6b-bb11-ffecb13569a7"
      },
      "source": [
        "Use the tuple given below:\n",
        "\n",
        "num_tuple = (-4, 7, -8, -9, 8, -6, 7, 3, -6, 1, -8, -6)"
      ]
    },
    {
      "cell_type": "code",
      "source": [
        "num_tuple = (-4, 7, -8, -9, 8, -6, 7, 3, -6, 1, -8, -6)\n",
        "num_tuple.count(-6)"
      ],
      "metadata": {
        "id": "TY9Ydlxj_htC",
        "outputId": "49b63a84-4a52-449d-caa5-4415e2352735",
        "colab": {
          "base_uri": "https://localhost:8080/"
        }
      },
      "id": "TY9Ydlxj_htC",
      "execution_count": 15,
      "outputs": [
        {
          "output_type": "execute_result",
          "data": {
            "text/plain": [
              "3"
            ]
          },
          "metadata": {},
          "execution_count": 15
        }
      ]
    },
    {
      "cell_type": "markdown",
      "id": "626935f2-73da-45f1-bd0f-1db7b35b08dd",
      "metadata": {
        "id": "626935f2-73da-45f1-bd0f-1db7b35b08dd"
      },
      "source": [
        "6. Check whether the number 53 is in the given list or not"
      ]
    },
    {
      "cell_type": "markdown",
      "id": "b883ae38-362e-4287-91fd-82ecf3161041",
      "metadata": {
        "id": "b883ae38-362e-4287-91fd-82ecf3161041"
      },
      "source": [
        "Use the list given below:\n",
        "\n",
        "num_list = [5, 3, 6, 1, 85, 23, 5, 13]"
      ]
    },
    {
      "cell_type": "code",
      "source": [
        "num_list = [5, 3, 6, 1, 85, 23, 5, 13]\n",
        "if 53 in num_list:\n",
        "    print(\"53 is in the list\")\n",
        "else:\n",
        "    print(\"53 is not in the list\")"
      ],
      "metadata": {
        "id": "wjSlRVT-_nDY",
        "outputId": "5b3dbdde-81c6-4315-9c8f-0fabb3a9c7e4",
        "colab": {
          "base_uri": "https://localhost:8080/"
        }
      },
      "id": "wjSlRVT-_nDY",
      "execution_count": 16,
      "outputs": [
        {
          "output_type": "stream",
          "name": "stdout",
          "text": [
            "53 is not in the list\n"
          ]
        }
      ]
    },
    {
      "cell_type": "markdown",
      "id": "77f2783e-0ab3-4046-9eb0-00ed09f14de9",
      "metadata": {
        "id": "77f2783e-0ab3-4046-9eb0-00ed09f14de9"
      },
      "source": [
        "\n",
        "7. Remove number 3 from a given set"
      ]
    },
    {
      "cell_type": "markdown",
      "id": "35bf81d7-3089-46c0-ba08-b197911c9657",
      "metadata": {
        "id": "35bf81d7-3089-46c0-ba08-b197911c9657"
      },
      "source": [
        "Use the set below:\n",
        "\n",
        "numbers = {2, 3, 4, 5}"
      ]
    },
    {
      "cell_type": "code",
      "source": [
        "numbers = {2, 3, 4, 5}\n",
        "numbers.remove(3)\n",
        "numbers"
      ],
      "metadata": {
        "id": "nx8Uvlgg_rQU",
        "outputId": "e7e4e6d1-8838-4ba5-f24c-802c4163e35b",
        "colab": {
          "base_uri": "https://localhost:8080/"
        }
      },
      "id": "nx8Uvlgg_rQU",
      "execution_count": 17,
      "outputs": [
        {
          "output_type": "execute_result",
          "data": {
            "text/plain": [
              "{2, 4, 5}"
            ]
          },
          "metadata": {},
          "execution_count": 17
        }
      ]
    },
    {
      "cell_type": "markdown",
      "id": "3122c4b7-19b0-4948-be58-950c66acfbba",
      "metadata": {
        "id": "3122c4b7-19b0-4948-be58-950c66acfbba"
      },
      "source": [
        "8. Write a program to convert a list into tuple"
      ]
    },
    {
      "cell_type": "markdown",
      "id": "181f4fbb-27ad-4ef6-8823-a372579972a5",
      "metadata": {
        "id": "181f4fbb-27ad-4ef6-8823-a372579972a5"
      },
      "source": [
        "Use the list below:\n",
        "\n",
        "num_list = [24, 18, 24, 47, 52]"
      ]
    },
    {
      "cell_type": "code",
      "source": [
        "num_list = [24, 18, 24, 47, 52]\n",
        "num_tuple = tuple(num_list)\n",
        "num_tuple"
      ],
      "metadata": {
        "id": "4yRaMRBzAKDR",
        "outputId": "a6ed36ad-be9f-4571-ecf8-79c565d25839",
        "colab": {
          "base_uri": "https://localhost:8080/"
        }
      },
      "id": "4yRaMRBzAKDR",
      "execution_count": 19,
      "outputs": [
        {
          "output_type": "execute_result",
          "data": {
            "text/plain": [
              "(24, 18, 24, 47, 52)"
            ]
          },
          "metadata": {},
          "execution_count": 19
        }
      ]
    },
    {
      "cell_type": "markdown",
      "id": "d62f4aa1-00fc-4155-ac9f-f0dc852ab2d1",
      "metadata": {
        "id": "d62f4aa1-00fc-4155-ac9f-f0dc852ab2d1"
      },
      "source": [
        "9. Write a program to retrieve the capital of 'Germany' from a given dictionary"
      ]
    },
    {
      "cell_type": "markdown",
      "id": "41611984-04d9-4cdd-880e-2c23b92431be",
      "metadata": {
        "id": "41611984-04d9-4cdd-880e-2c23b92431be"
      },
      "source": [
        "Use the dictionary given below:\n",
        "\n",
        "europe = { 'Spain': { 'Capital':'Madrid', 'Population':4.77 }, 'France': { 'Capital':'Paris', 'Population':6.7 },\n",
        "'Germany': { 'Capital':'Berlin', 'Population':8.28 },\n",
        "'Norway': { 'Capital':'Oslo', 'Population':0.533 }"
      ]
    },
    {
      "cell_type": "markdown",
      "id": "924edf2e-1e9b-4f94-bf86-a6eeb9c2765c",
      "metadata": {
        "id": "924edf2e-1e9b-4f94-bf86-a6eeb9c2765c"
      },
      "source": [
        "\n",
        "10. Find maximum and the minimum value from a given set"
      ]
    },
    {
      "cell_type": "markdown",
      "id": "6fd2e32e-3fc7-407d-99c8-45abfb8d363b",
      "metadata": {
        "id": "6fd2e32e-3fc7-407d-99c8-45abfb8d363b"
      },
      "source": [
        "Use the elements:\n",
        "\n",
        "5, 10, 3, 15, 2, 20, 10, 5, 4, 3"
      ]
    }
  ],
  "metadata": {
    "kernelspec": {
      "display_name": "Python 3 (ipykernel)",
      "language": "python",
      "name": "python3"
    },
    "language_info": {
      "codemirror_mode": {
        "name": "ipython",
        "version": 3
      },
      "file_extension": ".py",
      "mimetype": "text/x-python",
      "name": "python",
      "nbconvert_exporter": "python",
      "pygments_lexer": "ipython3",
      "version": "3.12.4"
    },
    "colab": {
      "provenance": []
    }
  },
  "nbformat": 4,
  "nbformat_minor": 5
}