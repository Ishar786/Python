{
 "cells": [
  {
   "cell_type": "markdown",
   "id": "4c8c52d8-db32-44f5-b5b6-c3a35274f2f6",
   "metadata": {},
   "source": [
    "# Hands-on Practice exercises"
   ]
  },
  {
   "cell_type": "markdown",
   "id": "4cf8a8c3-55ca-481a-9fdf-cf1710792aea",
   "metadata": {},
   "source": [
    "1. Create a tuple with single value '5'"
   ]
  },
  {
   "cell_type": "markdown",
   "id": "e8e3f5db-1d9a-4d69-a417-124e4a936ae4",
   "metadata": {},
   "source": [
    "2. Write a program that takes two dictionaries and concatenates them into one dictionary"
   ]
  },
  {
   "cell_type": "markdown",
   "id": "57142e0b-6b12-4ac7-bf29-8c3eaf16b5ec",
   "metadata": {},
   "source": [
    "Use the below dictionaries:\n",
    "\n",
    "dictionary_1 = {'A':1, 'B':2}\n",
    "\n",
    "dictionary_2 = {'C':3}"
   ]
  },
  {
   "cell_type": "markdown",
   "id": "0d1ab29d-eac3-4b4d-b9ff-7baa6ca41597",
   "metadata": {},
   "source": [
    "\t\n",
    "3. Check whether the set X and Y are disjoint or not"
   ]
  },
  {
   "cell_type": "markdown",
   "id": "d2f3d1b9-e8b2-498b-af47-0845796200e1",
   "metadata": {},
   "source": [
    "Use the sets below (or create your own sets):\n",
    "\n",
    "Set X\n",
    "X = {4, 5, 11, 34, 4, 56, 44, 67, 67, 5, 12, 34, 16, 9, 22, 23, 56, 34, 33, 89, 78, 45, 33, 78, 34, 45, 12, 45, 56 }\n",
    "\n",
    "Set Y\n",
    "Y = {41, 52, 63, 56, 67, 45, 99, 56, 45, 23, 45, 63, 45, 56, 45, 55, 56, 56, 12, 86, 67, 55, 56, 34, 89}"
   ]
  },
  {
   "cell_type": "markdown",
   "id": "73e6f789-1ec3-4802-8559-20c072be5b05",
   "metadata": {},
   "source": [
    "4. Retrieve the third element in the given list"
   ]
  },
  {
   "cell_type": "markdown",
   "id": "49b8ccc2-a8b7-4f60-bb0c-7d374531f34c",
   "metadata": {},
   "source": [
    "Use the list given below:\n",
    "\n",
    "num_list = [5, 3, 6, 1, 85, 23, 5, 13]"
   ]
  },
  {
   "cell_type": "markdown",
   "id": "daaab2e4-00fb-4bcb-a496-67b6ca2de188",
   "metadata": {},
   "source": [
    "\t\n",
    "5. Count the occurance of number -6 in the given tuple"
   ]
  },
  {
   "cell_type": "markdown",
   "id": "127e9bf9-a11a-4b6b-bb11-ffecb13569a7",
   "metadata": {},
   "source": [
    "Use the tuple given below:\n",
    "\n",
    "num_tuple = (-4, 7, -8, -9, 8, -6, 7, 3, -6, 1, -8, -6)"
   ]
  },
  {
   "cell_type": "markdown",
   "id": "626935f2-73da-45f1-bd0f-1db7b35b08dd",
   "metadata": {},
   "source": [
    "6. Check whether the number 53 is in the given list or not"
   ]
  },
  {
   "cell_type": "markdown",
   "id": "b883ae38-362e-4287-91fd-82ecf3161041",
   "metadata": {},
   "source": [
    "Use the list given below:\n",
    "\n",
    "num_list = [5, 3, 6, 1, 85, 23, 5, 13]"
   ]
  },
  {
   "cell_type": "markdown",
   "id": "77f2783e-0ab3-4046-9eb0-00ed09f14de9",
   "metadata": {},
   "source": [
    "\t\n",
    "7. Remove number 3 from a given set"
   ]
  },
  {
   "cell_type": "markdown",
   "id": "35bf81d7-3089-46c0-ba08-b197911c9657",
   "metadata": {},
   "source": [
    "Use the set below:\n",
    "\n",
    "numbers = {2, 3, 4, 5}"
   ]
  },
  {
   "cell_type": "markdown",
   "id": "3122c4b7-19b0-4948-be58-950c66acfbba",
   "metadata": {},
   "source": [
    "8. Write a program to convert a list into tuple"
   ]
  },
  {
   "cell_type": "markdown",
   "id": "181f4fbb-27ad-4ef6-8823-a372579972a5",
   "metadata": {},
   "source": [
    "Use the list below:\n",
    "\n",
    "num_list = [24, 18, 24, 47, 52]"
   ]
  },
  {
   "cell_type": "markdown",
   "id": "d62f4aa1-00fc-4155-ac9f-f0dc852ab2d1",
   "metadata": {},
   "source": [
    "9. Write a program to retrieve the capital of 'Germany' from a given dictionary"
   ]
  },
  {
   "cell_type": "markdown",
   "id": "41611984-04d9-4cdd-880e-2c23b92431be",
   "metadata": {},
   "source": [
    "Use the dictionary given below:\n",
    "\n",
    "europe = { 'Spain': { 'Capital':'Madrid', 'Population':4.77 }, 'France': { 'Capital':'Paris', 'Population':6.7 },\n",
    "'Germany': { 'Capital':'Berlin', 'Population':8.28 }, \n",
    "'Norway': { 'Capital':'Oslo', 'Population':0.533 } "
   ]
  },
  {
   "cell_type": "markdown",
   "id": "924edf2e-1e9b-4f94-bf86-a6eeb9c2765c",
   "metadata": {},
   "source": [
    "\t\n",
    "10. Find maximum and the minimum value from a given set"
   ]
  },
  {
   "cell_type": "markdown",
   "id": "6fd2e32e-3fc7-407d-99c8-45abfb8d363b",
   "metadata": {},
   "source": [
    "Use the elements:\n",
    "\n",
    "5, 10, 3, 15, 2, 20, 10, 5, 4, 3"
   ]
  }
 ],
 "metadata": {
  "kernelspec": {
   "display_name": "Python 3 (ipykernel)",
   "language": "python",
   "name": "python3"
  },
  "language_info": {
   "codemirror_mode": {
    "name": "ipython",
    "version": 3
   },
   "file_extension": ".py",
   "mimetype": "text/x-python",
   "name": "python",
   "nbconvert_exporter": "python",
   "pygments_lexer": "ipython3",
   "version": "3.12.4"
  }
 },
 "nbformat": 4,
 "nbformat_minor": 5
}
