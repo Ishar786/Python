{
  "nbformat": 4,
  "nbformat_minor": 0,
  "metadata": {
    "colab": {
      "provenance": [],
      "authorship_tag": "ABX9TyMiKA/9mk+uDhkIrb26zoIP",
      "include_colab_link": true
    },
    "kernelspec": {
      "name": "python3",
      "display_name": "Python 3"
    },
    "language_info": {
      "name": "python"
    }
  },
  "cells": [
    {
      "cell_type": "markdown",
      "metadata": {
        "id": "view-in-github",
        "colab_type": "text"
      },
      "source": [
        "<a href=\"https://colab.research.google.com/github/Ishar786/Python/blob/main/SWOT.ipynb\" target=\"_parent\"><img src=\"https://colab.research.google.com/assets/colab-badge.svg\" alt=\"Open In Colab\"/></a>"
      ]
    },
    {
      "cell_type": "code",
      "source": [
        "# Install the Google AI library, requests for web access, BeautifulSoup for HTML parsing, and lxml for speed\n",
        "!pip install -q -U google-generativeai requests beautifulsoup4 lxml"
      ],
      "metadata": {
        "colab": {
          "base_uri": "https://localhost:8080/"
        },
        "id": "fCU0JPa7xo1M",
        "outputId": "2cf9afcf-22f8-46be-de58-9bb65ca3900c"
      },
      "execution_count": null,
      "outputs": [
        {
          "output_type": "stream",
          "name": "stdout",
          "text": [
            "\u001b[2K   \u001b[90m━━━━━━━━━━━━━━━━━━━━━━━━━━━━━━━━━━━━━━━━\u001b[0m \u001b[32m64.8/64.8 kB\u001b[0m \u001b[31m4.6 MB/s\u001b[0m eta \u001b[36m0:00:00\u001b[0m\n",
            "\u001b[2K   \u001b[90m━━━━━━━━━━━━━━━━━━━━━━━━━━━━━━━━━━━━━━━━\u001b[0m \u001b[32m5.2/5.2 MB\u001b[0m \u001b[31m20.7 MB/s\u001b[0m eta \u001b[36m0:00:00\u001b[0m\n",
            "\u001b[?25h\u001b[31mERROR: pip's dependency resolver does not currently take into account all the packages that are installed. This behaviour is the source of the following dependency conflicts.\n",
            "google-colab 1.0.0 requires requests==2.32.3, but you have requests 2.32.4 which is incompatible.\u001b[0m\u001b[31m\n",
            "\u001b[0m"
          ]
        }
      ]
    },
    {
      "cell_type": "code",
      "source": [
        "import google.generativeai as genai\n",
        "import requests\n",
        "from bs4 import BeautifulSoup\n",
        "import lxml\n",
        "from google.colab import userdata\n",
        "import textwrap\n",
        "from IPython.display import Markdown\n",
        "\n",
        "# --- CONFIGURATION (No changes) ---\n",
        "try:\n",
        "    api_key = userdata.get('GOOGLE_API_KEY')\n",
        "    genai.configure(api_key=api_key)\n",
        "except userdata.SecretNotFoundError as e:\n",
        "    print(\"API Key not found. Please follow Step 1 to add your GOOGLE_API_KEY to Colab Secrets.\")\n",
        "    raise e\n",
        "model = genai.GenerativeModel('gemini-1.5-flash')\n",
        "\n",
        "# --- MODULE 1: WEB SCRAPER (No changes) ---\n",
        "# ... [Keeping this function the same as before, collapsed for brevity] ...\n",
        "def get_article_text(url: str) -> str:\n",
        "    print(f\"Scraping URL: {url}...\")\n",
        "    try:\n",
        "        headers = {'User-Agent': 'Mozilla/5.0 (Windows NT 10.0; Win64; x64) AppleWebKit/537.36 (KHTML, like Gecko) Chrome/91.0.4472.124 Safari/537.36'}\n",
        "        response = requests.get(url, headers=headers, timeout=10)\n",
        "        response.raise_for_status()\n",
        "        soup = BeautifulSoup(response.content, 'lxml')\n",
        "        for script_or_style in soup([\"script\", \"style\"]):\n",
        "            script_or_style.decompose()\n",
        "        main_content = soup.find('article') or soup.find('main') or soup.body\n",
        "        text = main_content.get_text(separator='\\n', strip=True)\n",
        "        lines = (line.strip() for line in text.splitlines())\n",
        "        chunks = (phrase.strip() for line in lines for phrase in line.split(\"  \"))\n",
        "        cleaned_text = '\\n'.join(chunk for chunk in chunks if chunk)\n",
        "        print(\"Scraping successful.\")\n",
        "        return cleaned_text\n",
        "    except requests.exceptions.RequestException as e:\n",
        "        print(f\"Error fetching URL: {e}\")\n",
        "        return None\n",
        "\n",
        "# --- MODULE 2: AI ANALYSIS CORE (FINAL TWEAK FOR FLOW) ---\n",
        "def generate_swot_point(text: str, company_name: str, swot_category: str, example: str) -> str:\n",
        "    print(f\"Analyzing text for {swot_category} regarding {company_name}...\")\n",
        "\n",
        "    # REFINED PROMPT with a final instruction for better narrative flow\n",
        "    prompt = f\"\"\"\n",
        "    You are a business analyst who MUST follow a very specific writing formula.\n",
        "    Analyze the provided \"Press Release Text\" and generate a single paragraph for a SWOT analysis about the company '{company_name}'.\n",
        "\n",
        "    **YOUR TASK IS TO FOLLOW THIS EXACT 5-STEP FORMULA:**\n",
        "\n",
        "    **Step 1: The Opening Sentence.** Start with the date (month year), followed by the company name, the action (e.g., 'has acquired', 'has partnered'), the entity involved, and the immediate purpose.\n",
        "\n",
        "    **Step 2: The Detail Sentence.** In a new sentence, provide a specific, factual detail about the entity mentioned in Step 1.\n",
        "\n",
        "    **Step 3: The \"Would\" Benefit Sentence.** In a new sentence, describe the direct benefit of the action using the word \"would\". **You can use transitional phrases like \"Through this acquisition...\" to start this sentence for better flow.**\n",
        "\n",
        "    **Step 4: The Strategic Benefit Sentence.** In another new sentence, describe the broader strategic benefit or how it helps the company's long-term goals. **You can use transitional phrases like \"Further...\" to start this sentence.**\n",
        "\n",
        "    **Step 5: The Concluding Sentence.** In a final sentence, link the action to a larger company mission or goal.\n",
        "\n",
        "    **DO NOT DEVIATE FROM THIS 5-STEP STRUCTURE. The output MUST be a single paragraph.**\n",
        "\n",
        "    ---\n",
        "    **PERFECT EXAMPLE TO MIMIC:**\n",
        "    {example}\n",
        "    ---\n",
        "\n",
        "    **Press Release Text:**\n",
        "    ---\n",
        "    {text}\n",
        "    ---\n",
        "    \"\"\"\n",
        "\n",
        "    try:\n",
        "        response = model.generate_content(prompt)\n",
        "        print(\"Analysis complete.\")\n",
        "        return response.text.strip()\n",
        "    except Exception as e:\n",
        "        print(f\"An error occurred during AI analysis: {e}\")\n",
        "        return None\n",
        "\n",
        "# --- MODULE 3: SCALABLE SWOT FRAMEWORK (Single, best example) ---\n",
        "# We will now use ONLY your best example to reinforce the template.\n",
        "SWOT_EXAMPLES = {\n",
        "    \"Opportunity\": textwrap.dedent(\"\"\"\n",
        "        in January 2025, Elevance has acquired Indiana University (IU) Health Plans, to enhance its local presence, expanding product offerings. IU Health Plans is a managed care organization created by Indiana University Health which provides Medicare advantage plans to 19,000 people across 36 countries. This acquisition would elevate quality and would expand Elevance's product offerings. This acquisition would strengthen the company’s efforts to cultivate healthier communities and improve health outcomes for those they are privileged to serve. This strategic step is in line with Elevance’s health equity goals and allow it to provide comprehensive access to high-quality care and timely interventions.\n",
        "    \"\"\")\n",
        "}\n",
        "\n",
        "# --- Main Runner Function (No changes) ---\n",
        "def analyze_url_for_swot(url: str, company_name: str, swot_category: str):\n",
        "    if swot_category not in SWOT_EXAMPLES:\n",
        "        print(f\"Error: SWOT category '{swot_category}' is not defined.\")\n",
        "        return\n",
        "    # Note: Using the manual text method since scraping this site is blocked.\n",
        "    article_text = \"\"\"\n",
        "    Elevance Health is continuing its dealmaking streak, this time with the acquisition of Indiana University Health's health plan. IU Health Plans offers Medicare Advantage and commercial plans to employers and individuals in the state, and the deal includes its risk-based and medical management services. The acquisition is expected to close later this year, though financial details were not disclosed. \"The acquisition of IU Health Plans will help us continue to build on our commitment to expanding access to high-quality, affordable healthcare for people in Indiana,\" said Felicia Norwood, executive vice president and president of government health benefits for Elevance Health, in a statement. \"We look forward to the opportunity to leverage our resources and broad networks to provide IU Health Plan members with a high-value, whole-health experience.\" Elevance said it will work with IU Health to ensure a smooth transition for members, who will be able to continue to access IU Health's provider network. Elevance's own provider network will become available to members following the acquisition. Elevance has been on an M&A tear of late, most recently closing its acquisition of specialty pharmacy BioPlus. It also snapped up Blue Cross and Blue Shield of Louisiana in a $2.5 billion deal. The insurer has also been active in the government programs space, acquiring Integra Managed Care in New York.\n",
        "    \"\"\"\n",
        "    example = SWOT_EXAMPLES[swot_category]\n",
        "    swot_paragraph = generate_swot_point(article_text, company_name, swot_category, example)\n",
        "    if swot_paragraph:\n",
        "        print(\"\\n--- Generated SWOT Paragraph ---\\n\")\n",
        "        display(Markdown(swot_paragraph))"
      ],
      "metadata": {
        "id": "Jav_JG0wH8sJ"
      },
      "execution_count": null,
      "outputs": []
    },
    {
      "cell_type": "code",
      "source": [
        "# --- INPUTS: Paste the article text here ---\n",
        "\n",
        "# --- ANALYSIS: Change the company name and SWOT category as needed ---\n",
        "\n",
        "company_name = \"Petrochina Company limited\"\n",
        "swot_category_to_find = \"Opportunity\"\n",
        "\n",
        "# I have copied the text for you from the URL.\n",
        "article_text_manual = \"\"\"\n",
        "Shell, PetroChina Sanction Phase 2 of Surat Gas Project\n",
        "by Jov Onsat|Rigzone Staff | Wednesday, August 14, 2024 | 7:06 AM EST\n",
        "Shell, PetroChina Sanction Phase 2 of Surat Gas Project\n",
        "PetroChina and Shell agreed on an additional investment in the Surat Gas Project, their joint venture in Australia that is targeted to produce about five Tcf of natural gas over 27 years.\n",
        "Image by OleksandrKalinichenko via iStock\n",
        "\n",
        "PetroChina Co. Ltd. and Shell PLC have agreed on an additional investment in the Surat Gas Project (SGP), their joint venture in Australia that is targeted to produce about five trillion cubic feet of natural gas over 27 years.\n",
        "\n",
        "Like phase one, which was approved by the partners 2020, phase two will supply a Shell-operated liquefaction plant on Curtis Island in the state of Queensland, Shell said in a statement. The liquefied natural gas (LNG) is meant for export, but the Surat Gas Project will also deliver gas for the domestic market.\n",
        "\n",
        "Phase two, or SGP North, has an expected peak output of about 130 million cubic feet a day, with up to 450 production wells targeted to be drilled. Shell expects to start production 2026.\n",
        "\n",
        "The Surat Gas Project is operated by the British energy giant and state-backed PetroChina’s 50-50 joint venture Arrow Energy Pty. Ltd.\n",
        "\n",
        "Arrow said in a separate press release construction is scheduled to start later in 2024. The infrastructure will include a new field compression station and a 27-kilometer (16.8 miles) pipeline. Works also include upgrades for roads and other existing infrastructure.\n",
        "\n",
        "Meanwhile phase one, which consists of over 600 wells, has an expected peak production of 90 billion feet a year according to Shell’s announcement of the final investment decision April 17, 2020.\n",
        "\n",
        "The Surat Gas Project, which targets coal seams in the namesake basin, is part of Arrow’s 27-year agreement to supply QCLNG (QCG), the operator of the Queensland LNG facility. QCG is a joint venture operated by Shell with a 73.75 percent stake, with state-owned China National Offshore Oil Corp. and EIG Management LLC owning 25 percent and 1.25 percent respectively. Last year QCG supplied 15 percent of gas demand on Australia’s east coast according to Shell.\n",
        "\n",
        "“QCLNG marked its 1000th cargo at the end of last year, reflecting its significance as a gas supplier for Australia and the region”, said Zoë Yujnovich, director for integrated gas and upstream at Shell. “This investment will enable us to sustain and grow this important, secure energy source that offers a lower emissions alternative to options like coal”.\n",
        "\n",
        "Shell aims to grow its LNG production by 20–30 percent by 2030 relative to 2022, as declared in the company’s Energy Transition Strategy 2024 report.\n",
        "\n",
        "It said in an outlook report February 14, 2024, that it expected global LNG demand to rise by over 50 percent by 2040, driven by an accelerating industrial switch from coal to gas in China and economic growth-driven demand in South and Southeast Asia.\n",
        "\n",
        "“Shell believes LNG will play a critical role in the energy transition, replacing coal in heavy industry”, the company said in the Surat phase two news release. “It also has a continued role in displacing coal in power generation, helping to reduce local air pollution and carbon emissions. LNG helps to provide the flexibility the power system needs, at a time when renewable generation is growing rapidly”.\n",
        "\n",
        "Shell added, “The investment in Phase 2 is expected to generate an internal rate of return in excess of the hurdle rate for Shell’s Integrated Gas business”.\n",
        "\n",
        "Arrow chief executive Zhengxin Peng said about the additional Surat investment, “At a time when more gas is needed for homes, businesses and industries, the SGP North development will solidify Arrow’s position as a major producer of natural gas on the east coast”.\n",
        "\n",
        "On the employment side, Arrow expects to offer up to 400 jobs for phase two.\n",
        "\n",
        "\"\"\""
      ],
      "metadata": {
        "id": "CwEANPaCIAPA"
      },
      "execution_count": null,
      "outputs": []
    },
    {
      "cell_type": "code",
      "source": [
        "# --- RUN THE ANALYSIS (using the manual text) ---\n",
        "\n",
        "if swot_category_to_find in SWOT_EXAMPLES:\n",
        "    examples = SWOT_EXAMPLES[swot_category_to_find]\n",
        "    # We call the AI function directly, skipping the scraper\n",
        "    swot_paragraph = generate_swot_point(article_text_manual, company_name, swot_category_to_find, examples)\n",
        "\n",
        "    if swot_paragraph:\n",
        "        print(\"\\n--- Generated SWOT Paragraph ---\\n\")\n",
        "        display(Markdown(swot_paragraph))\n",
        "else:\n",
        "    print(f\"Error: SWOT category '{swot_category_to_find}' is not defined.\")"
      ],
      "metadata": {
        "colab": {
          "base_uri": "https://localhost:8080/",
          "height": 223
        },
        "id": "MgDMlWTzIPlg",
        "outputId": "44f3c33f-52cc-42c9-a487-3a7a651548a8"
      },
      "execution_count": null,
      "outputs": [
        {
          "output_type": "stream",
          "name": "stdout",
          "text": [
            "Analyzing text for Opportunity regarding Petrochina Company limited...\n",
            "Analysis complete.\n",
            "\n",
            "--- Generated SWOT Paragraph ---\n",
            "\n"
          ]
        },
        {
          "output_type": "display_data",
          "data": {
            "text/plain": [
              "<IPython.core.display.Markdown object>"
            ],
            "text/markdown": "August 2024, PetroChina Company Limited has partnered with Shell PLC, to further develop the Surat Gas Project (SGP) in Australia.  This partnership involves an additional investment in Phase 2 of the project, projected to produce an additional 130 million cubic feet of natural gas per day at its peak.  Through this partnership, PetroChina would significantly increase its natural gas production capacity and secure long-term access to a key energy resource. Further, this strategic move strengthens PetroChina's position in the global LNG market and secures a reliable energy supply to meet growing Asian demand.  This collaboration aligns with PetroChina's broader goal of becoming a major player in the global energy transition by providing a lower-emissions energy source compared to coal."
          },
          "metadata": {}
        }
      ]
    },
    {
      "cell_type": "markdown",
      "source": [
        "#Refined model with weakness integrated"
      ],
      "metadata": {
        "id": "DVmVSWaTOYgf"
      }
    },
    {
      "cell_type": "code",
      "source": [
        "# --- IMPORTS AND CONFIGURATION ---\n",
        "import google.generativeai as genai\n",
        "from google.colab import userdata\n",
        "import textwrap\n",
        "from IPython.display import Markdown\n",
        "\n",
        "# Configure the API Key and AI Model\n",
        "try:\n",
        "    api_key = userdata.get('GOOGLE_API_KEY')\n",
        "    genai.configure(api_key=api_key)\n",
        "    model = genai.GenerativeModel('gemini-1.5-flash')\n",
        "    print(\"AI Model configured successfully.\")\n",
        "except Exception as e:\n",
        "    print(f\"Error during configuration: {e}\")\n",
        "    print(\"Please ensure your GOOGLE_API_KEY is set correctly in Colab Secrets.\")\n",
        "\n",
        "# --- THE STYLE GUIDE (EXAMPLES) ---\n",
        "# This dictionary holds the perfect example for each SWOT category.\n",
        "SWOT_EXAMPLES = {\n",
        "    \"Opportunity\": textwrap.dedent(\"\"\"\n",
        "        in January 2025, Elevance has acquired Indiana University (IU) Health Plans, to enhance its local presence, expanding product offerings. IU Health Plans is a managed care organization created by Indiana University Health which provides Medicare advantage plans to 19,000 people across 36 countries. This acquisition would elevate quality and would expand Elevance's product offerings. This acquisition would strengthen the company’s efforts to cultivate healthier communities and improve health outcomes for those they are privileged to serve. This strategic step is in line with Elevance’s health equity goals and allow it to provide comprehensive access to high-quality care and timely interventions.\n",
        "    \"\"\"),\n",
        "    \"Weakness\": textwrap.dedent(\"\"\"\n",
        "        BASF has agreed to pay a $700,000 civil penalty, to the U.S. Environmental Protection Agency (EPA) for the violation of the Toxic Substances Control Act (TSCA) related to the group’s chemical reporting obligations. According to EPA findings, BASF did not report required data on hundreds of chemical substances within the mandated timeframe, hindering the agency’s ability to assess potential public health and environmental risks. This settlement reinforces EPA’s commitment to fair but firm enforcement of environmental laws. It also serves as a reminder to the chemical industry of the importance of meeting federal reporting standards.\n",
        "    \"\"\")\n",
        "}\n",
        "\n",
        "# --- THE PROMPT LIBRARY (WRITING FORMULAS) ---\n",
        "# This dictionary holds the unique, step-by-step writing formula for each category.\n",
        "SWOT_PROMPTS = {\n",
        "    \"Opportunity\": \"\"\"\n",
        "    You are a business analyst who MUST follow a very specific writing formula to identify an OPPORTUNITY.\n",
        "    Analyze the provided \"Press Release Text\" and generate a single paragraph.\n",
        "\n",
        "    **YOUR TASK IS TO FOLLOW THIS EXACT 5-STEP FORMULA:**\n",
        "    1.  **The Opening Sentence:** Start with the date, company name, the positive action (e.g., 'has acquired', 'has launched'), the entity involved, and the immediate purpose.\n",
        "    2.  **The Detail Sentence:** Provide a specific, factual detail about the entity or initiative.\n",
        "    3.  **The \"Would\" Benefit Sentence:** Describe the direct benefit using the word \"would\". Use transitional phrases like \"Through this acquisition...\".\n",
        "    4.  **The Strategic Benefit Sentence:** Describe the broader strategic benefit. Use transitional phrases like \"Further...\".\n",
        "    5.  **The Concluding Sentence:** Link the action to a larger company mission or goal.\n",
        "    \"\"\",\n",
        "    \"Weakness\": \"\"\"\n",
        "    You are a business analyst. Your task is to analyze the provided text and write a single paragraph summarizing a company's WEAKNESS, perfectly replicating the user's writing style.\n",
        "\n",
        "    **YOUR TASK IS TO FOLLOW THIS PRECISE 3-PART STRUCTURE:**\n",
        "\n",
        "    1.  **The Negative Event:** In the first sentence, state the date, the company, and the core negative event (e.g., \"faced a lawsuit,\" \"agreed to pay a penalty,\" \"recalled vehicles\").\n",
        "    2.  **The Problem Details:** In the next sentence, provide the specific details of the problem. Use phrases like \"The lawsuit alleged that...\", \"According to EPA findings...\", or \"This recall targets...\" to explain the core issue.\n",
        "    3.  **The Impact and Implications:** In the final sentence(s), describe the outcome. This can be the direct negative consequence for the company (e.g., financial penalties, reputational damage) OR the broader implications for the industry.\n",
        "    \"\"\"\n",
        "}\n",
        "\n",
        "# --- THE AI ANALYSIS ENGINE ---\n",
        "# This function assembles the prompt and calls the AI model.\n",
        "def generate_swot_point(text: str, company_name: str, swot_category: str) -> str:\n",
        "    print(f\"Analyzing text for {swot_category} regarding {company_name}...\")\n",
        "\n",
        "    # Dynamically select the correct prompt and example based on the category\n",
        "    prompt_formula = SWOT_PROMPTS.get(swot_category)\n",
        "    example = SWOT_EXAMPLES.get(swot_category)\n",
        "\n",
        "    if not prompt_formula or not example:\n",
        "        return f\"Error: No prompt or example found for SWOT category '{swot_category}'.\"\n",
        "\n",
        "    # Assemble the final prompt\n",
        "    final_prompt = f\"\"\"\n",
        "    {prompt_formula}\n",
        "\n",
        "    **DO NOT DEVIATE FROM THE FORMULA. The output MUST be a single paragraph.**\n",
        "\n",
        "    ---\n",
        "    **PERFECT EXAMPLE TO MIMIC:**\n",
        "    {example}\n",
        "    ---\n",
        "\n",
        "    **Press Release Text:**\n",
        "    ---\n",
        "    {text}\n",
        "    ---\n",
        "    \"\"\"\n",
        "\n",
        "    try:\n",
        "        response = model.generate_content(final_prompt)\n",
        "        print(\"Analysis complete.\")\n",
        "        return response.text.strip()\n",
        "    except Exception as e:\n",
        "        print(f\"An error occurred during AI analysis: {e}\")\n",
        "        return None"
      ],
      "metadata": {
        "id": "BoJp9MPqIRaE",
        "colab": {
          "base_uri": "https://localhost:8080/"
        },
        "outputId": "1e4a810a-836b-4269-8f43-19ad2938e02a"
      },
      "execution_count": 1,
      "outputs": [
        {
          "output_type": "stream",
          "name": "stdout",
          "text": [
            "AI Model configured successfully.\n"
          ]
        }
      ]
    },
    {
      "cell_type": "code",
      "source": [
        "# --- 1. SET YOUR COMPANY NAME ---\n",
        "company_name = \"BASF\"\n",
        "\n",
        "# --- 2. PASTE ARTICLE TEXTS INTO THE RELEVANT BOXES ---\n",
        "# You can fill one, both, or neither. The next cell will adapt automatically.\n",
        "\n",
        "opportunity_text_input = \"\"\"\n",
        "\n",
        "China Construction Bank says it launched internal financial model based on DeepSeek R1\n",
        "By Selena Li\n",
        "March 28, 20253:36 PM GMT+5:30Updated March 28, 2025\n",
        "\n",
        "\n",
        "\n",
        "Sign of China Construction Bank is seen at the 2020 China International Fair for Trade in Services (CIFTIS) in Beijing\n",
        "A sign of China Construction Bank is seen at its booth at the 2020 China International Fair for Trade in Services (CIFTIS) in Beijing, China September 4, 2020. REUTERS/Tingshu Wang/File Phoyo Purchase Licensing Rights, opens new tab\n",
        "March 28 - China Construction Bank (601939.SS), opens new tab said on Friday it had completed the private deployment of a large financial model based on DeepSeek R1 earlier this year.\n",
        "Private deployment means for internal use only. The comments were made by the bank's CEO Zhang Yi at a press conference following annual results.\n",
        "The Reuters Daily Briefing newsletter provides all the news you need to start your day. Sign up here.\n",
        "Reporting by Selena Li; Editing by Aidan Lewis\n",
        "\n",
        "Our Standards: The Thomson Reuters Trust Principles., opens new tab\n",
        "\n",
        "Suggested Topics:\n",
        "\n",
        "\n",
        "\n",
        "\n",
        "\n",
        "\n",
        "\n",
        "\n",
        "\n",
        "\"\"\"\n",
        "\n",
        "weakness_text_input = \"\"\"\n",
        "\n",
        "\n",
        "EPA Settlement with BASF Ensures they Comply with Chemical Reporting Violations in New Jersey\n",
        "May 22, 2025\n",
        "\n",
        "Contact Information\n",
        "Stephen McBay (mcbay.stephen@epa.gov)\n",
        "929-243-0417\n",
        "Florham Park, N.J. - The U.S. Environmental Protection Agency has finalized a settlement with international chemical company BASF Corporation resolving its violations of the Toxic Substances Control Act (TSCA). BASF has certified that it is now in full compliance with federal reporting requirements and has agreed to pay a $700,000 penalty for the past violations. This settlement is part of EPA’s core work to protect communities through chemical safety oversight.\n",
        "\n",
        "“Chemical data reporting is a critical tool that helps EPA ensure the safety of chemicals used in communities across the country, including right here in New Jersey,” said EPA Regional Administrator Michael Martucci. “Companies are responsible for submitting accurate and timely reports. This case reflects EPA’s approach of fair but firm enforcement when those obligations are not met.”\n",
        "\n",
        "The violations occurred at BASF’s U.S. headquarters in Florham Park, New Jersey, during the 2020 TSCA chemical reporting period. EPA found that the company did not provide information within the required timeframe about hundreds of substances that it was required to report under TSCA. These submissions help the EPA evaluate potential chemical risks and guide decisions that protect public health and the environment. BASF has corrected its submission and cooperated throughout EPA's investigation.\n",
        "\n",
        "EPA remains committed to helping regulated facilities meet their responsibilities under TSCA and other environmental laws. Through training, technical assistance, and case-by-case problem solving, EPA works to keep communities safe and businesses thriving across New Jersey, New York, Puerto Rico, and the U.S. Virgin Islands.\n",
        "\n",
        "Reporting requirements are critically important and widely used — not only by EPA, but by public health and policy researchers, educators, local emergency planners, state technical assistance providers, community groups, prospective home buyers, and others.\n",
        "\n",
        "Follow EPA Region 2 on X, Instagram, and visit our Facebook page. For more information about EPA Region 2, visit our website.\n",
        "\n",
        "\n",
        "\"\"\""
      ],
      "metadata": {
        "id": "HtSxgTEFOhm3"
      },
      "execution_count": 2,
      "outputs": []
    },
    {
      "cell_type": "code",
      "source": [
        "# --- This cell automatically analyzes any text provided in the cell above ---\n",
        "# --- You do not need to edit this cell ---\n",
        "\n",
        "print(\"--- Starting SWOT Analysis ---\")\n",
        "\n",
        "# --- Analyze for Opportunity ---\n",
        "if opportunity_text_input.strip():\n",
        "    print(\"\\nFound text for Opportunity. Analyzing...\")\n",
        "    swot_paragraph = generate_swot_point(opportunity_text_input, company_name, \"Opportunity\")\n",
        "    if swot_paragraph:\n",
        "        print(\"\\n--- Generated Opportunity Paragraph ---\")\n",
        "        display(Markdown(swot_paragraph))\n",
        "else:\n",
        "    print(\"\\nNo input provided for Opportunity. Skipping.\")\n",
        "\n",
        "# --- Analyze for Weakness ---\n",
        "if weakness_text_input.strip():\n",
        "    print(\"\\nFound text for Weakness. Analyzing...\")\n",
        "    swot_paragraph = generate_swot_point(weakness_text_input, company_name, \"Weakness\")\n",
        "    if swot_paragraph:\n",
        "        print(\"\\n--- Generated Weakness Paragraph ---\")\n",
        "        display(Markdown(swot_paragraph))\n",
        "else:\n",
        "    print(\"\\nNo input provided for Weakness. Skipping.\")\n",
        "\n",
        "print(\"\\n\\n--- Analysis Complete ---\")"
      ],
      "metadata": {
        "colab": {
          "base_uri": "https://localhost:8080/",
          "height": 503
        },
        "id": "794Co5juOm1r",
        "outputId": "afe3f440-0518-4df2-c004-fbdabd147a88"
      },
      "execution_count": 3,
      "outputs": [
        {
          "output_type": "stream",
          "name": "stdout",
          "text": [
            "--- Starting SWOT Analysis ---\n",
            "\n",
            "Found text for Opportunity. Analyzing...\n",
            "Analyzing text for Opportunity regarding BASF...\n",
            "Analysis complete.\n",
            "\n",
            "--- Generated Opportunity Paragraph ---\n"
          ]
        },
        {
          "output_type": "display_data",
          "data": {
            "text/plain": [
              "<IPython.core.display.Markdown object>"
            ],
            "text/markdown": "On March 28, 2025, China Construction Bank (CCB) launched an internal financial model based on DeepSeek R1 for enhanced operational efficiency.  This model, deployed privately for internal use only, leverages the advanced capabilities of DeepSeek R1 technology. Through this internal deployment, CCB would significantly improve the accuracy and speed of its financial modeling processes. Further, this would provide CCB with a competitive advantage in the market by streamlining operations and potentially reducing costs. This initiative aligns with CCB's ongoing commitment to technological innovation and its broader goal of optimizing its financial services."
          },
          "metadata": {}
        },
        {
          "output_type": "stream",
          "name": "stdout",
          "text": [
            "\n",
            "Found text for Weakness. Analyzing...\n",
            "Analyzing text for Weakness regarding BASF...\n",
            "Analysis complete.\n",
            "\n",
            "--- Generated Weakness Paragraph ---\n"
          ]
        },
        {
          "output_type": "display_data",
          "data": {
            "text/plain": [
              "<IPython.core.display.Markdown object>"
            ],
            "text/markdown": "On May 22, 2025, BASF Corporation agreed to pay a $700,000 penalty to the U.S. Environmental Protection Agency (EPA) for violating the Toxic Substances Control Act (TSCA).  The EPA found that BASF failed to submit required data on hundreds of chemical substances within the mandated timeframe during the 2020 reporting period, hindering the agency’s ability to assess potential risks to public health and the environment. This settlement highlights the importance of timely and accurate chemical reporting and underscores the EPA's commitment to enforcing environmental regulations, potentially impacting the chemical industry's compliance practices."
          },
          "metadata": {}
        },
        {
          "output_type": "stream",
          "name": "stdout",
          "text": [
            "\n",
            "\n",
            "--- Analysis Complete ---\n"
          ]
        }
      ]
    },
    {
      "cell_type": "code",
      "source": [],
      "metadata": {
        "id": "J6xu-ekUOp0Q"
      },
      "execution_count": null,
      "outputs": []
    }
  ]
}