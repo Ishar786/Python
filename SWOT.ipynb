{
  "nbformat": 4,
  "nbformat_minor": 0,
  "metadata": {
    "colab": {
      "provenance": [],
      "authorship_tag": "ABX9TyPsfWVTCto9+sQbiowZPTzs",
      "include_colab_link": true
    },
    "kernelspec": {
      "name": "python3",
      "display_name": "Python 3"
    },
    "language_info": {
      "name": "python"
    }
  },
  "cells": [
    {
      "cell_type": "markdown",
      "metadata": {
        "id": "view-in-github",
        "colab_type": "text"
      },
      "source": [
        "<a href=\"https://colab.research.google.com/github/Ishar786/Python/blob/main/SWOT.ipynb\" target=\"_parent\"><img src=\"https://colab.research.google.com/assets/colab-badge.svg\" alt=\"Open In Colab\"/></a>"
      ]
    },
    {
      "cell_type": "code",
      "source": [
        "# Install the Google AI library, requests for web access, BeautifulSoup for HTML parsing, and lxml for speed\n",
        "!pip install -q -U google-generativeai requests beautifulsoup4 lxml"
      ],
      "metadata": {
        "colab": {
          "base_uri": "https://localhost:8080/"
        },
        "id": "fCU0JPa7xo1M",
        "outputId": "efd5188b-fd62-4cf8-a7ea-7ea3370740b8"
      },
      "execution_count": 4,
      "outputs": [
        {
          "output_type": "stream",
          "name": "stdout",
          "text": [
            "\u001b[?25l   \u001b[90m━━━━━━━━━━━━━━━━━━━━━━━━━━━━━━━━━━━━━━━━\u001b[0m \u001b[32m0.0/64.8 kB\u001b[0m \u001b[31m?\u001b[0m eta \u001b[36m-:--:--\u001b[0m\r\u001b[2K   \u001b[90m━━━━━━━━━━━━━━━━━━━━━━━━━━━━━━━━━━━━━━━━\u001b[0m \u001b[32m64.8/64.8 kB\u001b[0m \u001b[31m2.0 MB/s\u001b[0m eta \u001b[36m0:00:00\u001b[0m\n",
            "\u001b[?25h\u001b[?25l   \u001b[90m━━━━━━━━━━━━━━━━━━━━━━━━━━━━━━━━━━━━━━━━\u001b[0m \u001b[32m0.0/5.2 MB\u001b[0m \u001b[31m?\u001b[0m eta \u001b[36m-:--:--\u001b[0m\r\u001b[2K   \u001b[91m━━━━━━\u001b[0m\u001b[91m╸\u001b[0m\u001b[90m━━━━━━━━━━━━━━━━━━━━━━━━━━━━━━━━━\u001b[0m \u001b[32m0.9/5.2 MB\u001b[0m \u001b[31m25.6 MB/s\u001b[0m eta \u001b[36m0:00:01\u001b[0m\r\u001b[2K   \u001b[91m━━━━━━━━━━━━━━━━━━━━━━━━━━━━━━━━━━━━\u001b[0m\u001b[91m╸\u001b[0m\u001b[90m━━━\u001b[0m \u001b[32m4.8/5.2 MB\u001b[0m \u001b[31m69.4 MB/s\u001b[0m eta \u001b[36m0:00:01\u001b[0m\r\u001b[2K   \u001b[90m━━━━━━━━━━━━━━━━━━━━━━━━━━━━━━━━━━━━━━━━\u001b[0m \u001b[32m5.2/5.2 MB\u001b[0m \u001b[31m50.3 MB/s\u001b[0m eta \u001b[36m0:00:00\u001b[0m\n",
            "\u001b[?25h\u001b[31mERROR: pip's dependency resolver does not currently take into account all the packages that are installed. This behaviour is the source of the following dependency conflicts.\n",
            "google-colab 1.0.0 requires requests==2.32.3, but you have requests 2.32.4 which is incompatible.\u001b[0m\u001b[31m\n",
            "\u001b[0m"
          ]
        }
      ]
    },
    {
      "cell_type": "code",
      "source": [
        "import google.generativeai as genai\n",
        "import requests\n",
        "from bs4 import BeautifulSoup\n",
        "import lxml\n",
        "from google.colab import userdata\n",
        "import textwrap\n",
        "from IPython.display import Markdown\n",
        "\n",
        "# --- CONFIGURATION (No changes) ---\n",
        "try:\n",
        "    api_key = userdata.get('GOOGLE_API_KEY')\n",
        "    genai.configure(api_key=api_key)\n",
        "except userdata.SecretNotFoundError as e:\n",
        "    print(\"API Key not found. Please follow Step 1 to add your GOOGLE_API_KEY to Colab Secrets.\")\n",
        "    raise e\n",
        "model = genai.GenerativeModel('gemini-1.5-flash')\n",
        "\n",
        "# --- MODULE 1: WEB SCRAPER (No changes) ---\n",
        "# ... [Keeping this function the same as before, collapsed for brevity] ...\n",
        "def get_article_text(url: str) -> str:\n",
        "    print(f\"Scraping URL: {url}...\")\n",
        "    try:\n",
        "        headers = {'User-Agent': 'Mozilla/5.0 (Windows NT 10.0; Win64; x64) AppleWebKit/537.36 (KHTML, like Gecko) Chrome/91.0.4472.124 Safari/537.36'}\n",
        "        response = requests.get(url, headers=headers, timeout=10)\n",
        "        response.raise_for_status()\n",
        "        soup = BeautifulSoup(response.content, 'lxml')\n",
        "        for script_or_style in soup([\"script\", \"style\"]):\n",
        "            script_or_style.decompose()\n",
        "        main_content = soup.find('article') or soup.find('main') or soup.body\n",
        "        text = main_content.get_text(separator='\\n', strip=True)\n",
        "        lines = (line.strip() for line in text.splitlines())\n",
        "        chunks = (phrase.strip() for line in lines for phrase in line.split(\"  \"))\n",
        "        cleaned_text = '\\n'.join(chunk for chunk in chunks if chunk)\n",
        "        print(\"Scraping successful.\")\n",
        "        return cleaned_text\n",
        "    except requests.exceptions.RequestException as e:\n",
        "        print(f\"Error fetching URL: {e}\")\n",
        "        return None\n",
        "\n",
        "# --- MODULE 2: AI ANALYSIS CORE (FINAL TWEAK FOR FLOW) ---\n",
        "def generate_swot_point(text: str, company_name: str, swot_category: str, example: str) -> str:\n",
        "    print(f\"Analyzing text for {swot_category} regarding {company_name}...\")\n",
        "\n",
        "    # REFINED PROMPT with a final instruction for better narrative flow\n",
        "    prompt = f\"\"\"\n",
        "    You are a business analyst who MUST follow a very specific writing formula.\n",
        "    Analyze the provided \"Press Release Text\" and generate a single paragraph for a SWOT analysis about the company '{company_name}'.\n",
        "\n",
        "    **YOUR TASK IS TO FOLLOW THIS EXACT 5-STEP FORMULA:**\n",
        "\n",
        "    **Step 1: The Opening Sentence.** Start with the date (month year), followed by the company name, the action (e.g., 'has acquired', 'has partnered'), the entity involved, and the immediate purpose.\n",
        "\n",
        "    **Step 2: The Detail Sentence.** In a new sentence, provide a specific, factual detail about the entity mentioned in Step 1.\n",
        "\n",
        "    **Step 3: The \"Would\" Benefit Sentence.** In a new sentence, describe the direct benefit of the action using the word \"would\". **You can use transitional phrases like \"Through this acquisition...\" to start this sentence for better flow.**\n",
        "\n",
        "    **Step 4: The Strategic Benefit Sentence.** In another new sentence, describe the broader strategic benefit or how it helps the company's long-term goals. **You can use transitional phrases like \"Further...\" to start this sentence.**\n",
        "\n",
        "    **Step 5: The Concluding Sentence.** In a final sentence, link the action to a larger company mission or goal.\n",
        "\n",
        "    **DO NOT DEVIATE FROM THIS 5-STEP STRUCTURE. The output MUST be a single paragraph.**\n",
        "\n",
        "    ---\n",
        "    **PERFECT EXAMPLE TO MIMIC:**\n",
        "    {example}\n",
        "    ---\n",
        "\n",
        "    **Press Release Text:**\n",
        "    ---\n",
        "    {text}\n",
        "    ---\n",
        "    \"\"\"\n",
        "\n",
        "    try:\n",
        "        response = model.generate_content(prompt)\n",
        "        print(\"Analysis complete.\")\n",
        "        return response.text.strip()\n",
        "    except Exception as e:\n",
        "        print(f\"An error occurred during AI analysis: {e}\")\n",
        "        return None\n",
        "\n",
        "# --- MODULE 3: SCALABLE SWOT FRAMEWORK (Single, best example) ---\n",
        "# We will now use ONLY your best example to reinforce the template.\n",
        "SWOT_EXAMPLES = {\n",
        "    \"Opportunity\": textwrap.dedent(\"\"\"\n",
        "        in January 2025, Elevance has acquired Indiana University (IU) Health Plans, to enhance its local presence, expanding product offerings. IU Health Plans is a managed care organization created by Indiana University Health which provides Medicare advantage plans to 19,000 people across 36 countries. This acquisition would elevate quality and would expand Elevance's product offerings. This acquisition would strengthen the company’s efforts to cultivate healthier communities and improve health outcomes for those they are privileged to serve. This strategic step is in line with Elevance’s health equity goals and allow it to provide comprehensive access to high-quality care and timely interventions.\n",
        "    \"\"\")\n",
        "}\n",
        "\n",
        "# --- Main Runner Function (No changes) ---\n",
        "def analyze_url_for_swot(url: str, company_name: str, swot_category: str):\n",
        "    if swot_category not in SWOT_EXAMPLES:\n",
        "        print(f\"Error: SWOT category '{swot_category}' is not defined.\")\n",
        "        return\n",
        "    # Note: Using the manual text method since scraping this site is blocked.\n",
        "    article_text = \"\"\"\n",
        "    Elevance Health is continuing its dealmaking streak, this time with the acquisition of Indiana University Health's health plan. IU Health Plans offers Medicare Advantage and commercial plans to employers and individuals in the state, and the deal includes its risk-based and medical management services. The acquisition is expected to close later this year, though financial details were not disclosed. \"The acquisition of IU Health Plans will help us continue to build on our commitment to expanding access to high-quality, affordable healthcare for people in Indiana,\" said Felicia Norwood, executive vice president and president of government health benefits for Elevance Health, in a statement. \"We look forward to the opportunity to leverage our resources and broad networks to provide IU Health Plan members with a high-value, whole-health experience.\" Elevance said it will work with IU Health to ensure a smooth transition for members, who will be able to continue to access IU Health's provider network. Elevance's own provider network will become available to members following the acquisition. Elevance has been on an M&A tear of late, most recently closing its acquisition of specialty pharmacy BioPlus. It also snapped up Blue Cross and Blue Shield of Louisiana in a $2.5 billion deal. The insurer has also been active in the government programs space, acquiring Integra Managed Care in New York.\n",
        "    \"\"\"\n",
        "    example = SWOT_EXAMPLES[swot_category]\n",
        "    swot_paragraph = generate_swot_point(article_text, company_name, swot_category, example)\n",
        "    if swot_paragraph:\n",
        "        print(\"\\n--- Generated SWOT Paragraph ---\\n\")\n",
        "        display(Markdown(swot_paragraph))"
      ],
      "metadata": {
        "id": "Jav_JG0wH8sJ"
      },
      "execution_count": 6,
      "outputs": []
    },
    {
      "cell_type": "code",
      "source": [
        "# --- INPUTS: Paste the article text here ---\n",
        "\n",
        "# --- ANALYSIS: Change the company name and SWOT category as needed ---\n",
        "\n",
        "company_name = \"Cigna group\"\n",
        "swot_category_to_find = \"Opportunity\"\n",
        "\n",
        "# I have copied the text for you from the URL.\n",
        "article_text_manual = \"\"\"\n",
        "Cigna and Singleton Associates, a Radiology Partners-Affiliated Practice, Sign Multi-Year Agreement to Expand Access to Radiology Care Across Texas\n",
        "April 23, 2025\n",
        "HOUSTON (April 23, 2025) – Cigna Healthcare (Cigna) and Radiology Partners-affiliated practice, Singleton Associates, P.A. (Singleton), have entered into a new multi-year agreement, effective June 1, 2025. This agreement will create in-network access to Singleton’s robust network of subspecialized radiologists for Cigna’s commercial members across the state.\n",
        "\n",
        "This agreement marks a major win for the Texas payor and provider communities, exhibiting collaboration and leadership to expand the availability and cost-effectiveness of Singleton’s advanced, technology-enabled imaging services throughout the state. Singleton is known for its subspecialized radiologists, many of whom are fellowship-trained in advanced fields, bringing deep expertise to the patients it serves. As a Radiology Partners-affiliated practice, Singleton radiologists have access to innovative quality programs, support services, advanced technology and artificial intelligence tools to support the delivery of care and ultimately improve patient outcomes: faster reads, better diagnosis and greater access. This is especially critical given the ongoing national physician shortage.\n",
        "\n",
        "The collaboration also reduces administrative friction in the healthcare system and eliminates unnecessary costs for patients, self-funded employer plans and payors. When Texas payors and providers work together to reach sustainable in-network agreements, self-funded employer groups in Texas are not burdened by the substantial costs of the federal No Surprises Act (NSA) Independent Dispute Resolution (IDR) process, thereby delivering materially lower costs and greater financial predictability for all parties involved. Also, effective immediately, all pending Singleton and Cigna NSA disputes will be settled outside of the NSA IDR process, yielding immediate and significant cost savings for all parties.\n",
        "\n",
        "“Bringing high-quality radiology care in network doesn’t just improve patient access—it lowers healthcare costs and simplifies the system for everyone,” said Rich Whitney, CEO of Radiology Partners. “By avoiding thousands of unnecessary NSA disputes, we’re helping employers reduce administrative costs and focus resources where they matter most: on patient care. I want to thank the Cigna team for their partnership in bringing this win-win agreement to a successful completion.”\n",
        "\n",
        "Beginning June 1, 2025, Cigna’s commercial members can take full advantage of their in-network health plan benefits when receiving care from Singleton—unlocking expanded access to differentiated imaging services for the remainder of this benefit year and for years to come.\n",
        "\n",
        "About Singleton Associates, P.A.\n",
        "Singleton Associates got its start more than 66 years ago as the first radiology provider to offer 24/7 in-house services to hospitals to make sure patients received the radiological care they needed, when they needed it. Learn more at singletonassociates.radpartners.com.\n",
        "\n",
        "About Radiology Partners\n",
        "Radiology Partners, through its owned and affiliated practices, is a leading radiology practice in the U.S., serving more than 3,400 hospitals and other healthcare facilities with high quality radiology, technology and artificial intelligence solutions. As a physician-led and physician-owned practice, our mission is to transform radiology by innovating across clinical value, technology, service and economics, while elevating the role of radiology and radiologists in healthcare. Using a proven healthcare services model, Radiology Partners provides consistent, high-quality care to patients, while delivering enhanced value to the hospitals, clinics, imaging centers and referring physicians we serve. Learn more at radpartners.com and connect with us at @Rad_Partners.\n",
        "\n",
        "\n",
        "\"\"\""
      ],
      "metadata": {
        "id": "CwEANPaCIAPA"
      },
      "execution_count": 7,
      "outputs": []
    },
    {
      "cell_type": "code",
      "source": [
        "# --- RUN THE ANALYSIS (using the manual text) ---\n",
        "\n",
        "if swot_category_to_find in SWOT_EXAMPLES:\n",
        "    examples = SWOT_EXAMPLES[swot_category_to_find]\n",
        "    # We call the AI function directly, skipping the scraper\n",
        "    swot_paragraph = generate_swot_point(article_text_manual, company_name, swot_category_to_find, examples)\n",
        "\n",
        "    if swot_paragraph:\n",
        "        print(\"\\n--- Generated SWOT Paragraph ---\\n\")\n",
        "        display(Markdown(swot_paragraph))\n",
        "else:\n",
        "    print(f\"Error: SWOT category '{swot_category_to_find}' is not defined.\")"
      ],
      "metadata": {
        "colab": {
          "base_uri": "https://localhost:8080/",
          "height": 223
        },
        "id": "MgDMlWTzIPlg",
        "outputId": "d078960e-1104-4bf8-973c-a996b3034629"
      },
      "execution_count": 8,
      "outputs": [
        {
          "output_type": "stream",
          "name": "stdout",
          "text": [
            "Analyzing text for Opportunity regarding Cigna group...\n",
            "Analysis complete.\n",
            "\n",
            "--- Generated SWOT Paragraph ---\n",
            "\n"
          ]
        },
        {
          "output_type": "display_data",
          "data": {
            "text/plain": [
              "<IPython.core.display.Markdown object>"
            ],
            "text/markdown": "April 2025, Cigna Group has partnered with Singleton Associates, a Radiology Partners-affiliated practice, to expand access to radiology care in Texas. Singleton Associates is a network of subspecialized radiologists with advanced technology and AI tools, offering faster reads and better diagnoses. Through this partnership, Cigna would provide its commercial members in Texas with in-network access to Singleton's high-quality radiology services. Further, this collaboration reduces administrative costs and avoids unnecessary disputes under the No Surprises Act, leading to cost savings for patients and employers. This strategic alignment with Singleton supports Cigna's mission to improve access to quality, cost-effective healthcare for its members and aligns with their broader goals of enhancing the patient experience and streamlining healthcare delivery."
          },
          "metadata": {}
        }
      ]
    },
    {
      "cell_type": "code",
      "source": [],
      "metadata": {
        "id": "BoJp9MPqIRaE"
      },
      "execution_count": null,
      "outputs": []
    }
  ]
}