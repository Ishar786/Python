{
  "nbformat": 4,
  "nbformat_minor": 0,
  "metadata": {
    "colab": {
      "provenance": [],
      "authorship_tag": "ABX9TyN/UVE8Vr9VM9En+2Y8QQXs",
      "include_colab_link": true
    },
    "kernelspec": {
      "name": "python3",
      "display_name": "Python 3"
    },
    "language_info": {
      "name": "python"
    }
  },
  "cells": [
    {
      "cell_type": "markdown",
      "metadata": {
        "id": "view-in-github",
        "colab_type": "text"
      },
      "source": [
        "<a href=\"https://colab.research.google.com/github/Ishar786/Python/blob/main/SWOT.ipynb\" target=\"_parent\"><img src=\"https://colab.research.google.com/assets/colab-badge.svg\" alt=\"Open In Colab\"/></a>"
      ]
    },
    {
      "cell_type": "code",
      "source": [
        "# Install the Google AI library, requests for web access, BeautifulSoup for HTML parsing, and lxml for speed\n",
        "!pip install -q -U google-generativeai requests beautifulsoup4 lxml"
      ],
      "metadata": {
        "colab": {
          "base_uri": "https://localhost:8080/"
        },
        "id": "fCU0JPa7xo1M",
        "outputId": "44586e8e-6c5b-4d64-c837-ea81d93eef13"
      },
      "execution_count": 1,
      "outputs": [
        {
          "output_type": "stream",
          "name": "stdout",
          "text": [
            "\u001b[2K   \u001b[90m━━━━━━━━━━━━━━━━━━━━━━━━━━━━━━━━━━━━━━━━\u001b[0m \u001b[32m64.7/64.7 kB\u001b[0m \u001b[31m1.1 MB/s\u001b[0m eta \u001b[36m0:00:00\u001b[0m\n",
            "\u001b[2K   \u001b[90m━━━━━━━━━━━━━━━━━━━━━━━━━━━━━━━━━━━━━━━━\u001b[0m \u001b[32m5.3/5.3 MB\u001b[0m \u001b[31m24.0 MB/s\u001b[0m eta \u001b[36m0:00:00\u001b[0m\n",
            "\u001b[?25h\u001b[31mERROR: pip's dependency resolver does not currently take into account all the packages that are installed. This behaviour is the source of the following dependency conflicts.\n",
            "google-colab 1.0.0 requires requests==2.32.3, but you have requests 2.32.5 which is incompatible.\u001b[0m\u001b[31m\n",
            "\u001b[0m"
          ]
        }
      ]
    },
    {
      "cell_type": "code",
      "source": [
        "import google.generativeai as genai\n",
        "import requests\n",
        "from bs4 import BeautifulSoup\n",
        "import lxml\n",
        "from google.colab import userdata\n",
        "import textwrap\n",
        "from IPython.display import Markdown\n",
        "\n",
        "# --- CONFIGURATION (No changes) ---\n",
        "try:\n",
        "    api_key = userdata.get('GOOGLE_API_KEY')\n",
        "    genai.configure(api_key=api_key)\n",
        "except userdata.SecretNotFoundError as e:\n",
        "    print(\"API Key not found. Please follow Step 1 to add your GOOGLE_API_KEY to Colab Secrets.\")\n",
        "    raise e\n",
        "model = genai.GenerativeModel('gemini-1.5-flash')\n",
        "\n",
        "# --- MODULE 1: WEB SCRAPER (No changes) ---\n",
        "# ... [Keeping this function the same as before, collapsed for brevity] ...\n",
        "def get_article_text(url: str) -> str:\n",
        "    print(f\"Scraping URL: {url}...\")\n",
        "    try:\n",
        "        headers = {'User-Agent': 'Mozilla/5.0 (Windows NT 10.0; Win64; x64) AppleWebKit/537.36 (KHTML, like Gecko) Chrome/91.0.4472.124 Safari/537.36'}\n",
        "        response = requests.get(url, headers=headers, timeout=10)\n",
        "        response.raise_for_status()\n",
        "        soup = BeautifulSoup(response.content, 'lxml')\n",
        "        for script_or_style in soup([\"script\", \"style\"]):\n",
        "            script_or_style.decompose()\n",
        "        main_content = soup.find('article') or soup.find('main') or soup.body\n",
        "        text = main_content.get_text(separator='\\n', strip=True)\n",
        "        lines = (line.strip() for line in text.splitlines())\n",
        "        chunks = (phrase.strip() for line in lines for phrase in line.split(\"  \"))\n",
        "        cleaned_text = '\\n'.join(chunk for chunk in chunks if chunk)\n",
        "        print(\"Scraping successful.\")\n",
        "        return cleaned_text\n",
        "    except requests.exceptions.RequestException as e:\n",
        "        print(f\"Error fetching URL: {e}\")\n",
        "        return None\n",
        "\n",
        "# --- MODULE 2: AI ANALYSIS CORE (FINAL TWEAK FOR FLOW) ---\n",
        "def generate_swot_point(text: str, company_name: str, swot_category: str, example: str) -> str:\n",
        "    print(f\"Analyzing text for {swot_category} regarding {company_name}...\")\n",
        "\n",
        "    # REFINED PROMPT with a final instruction for better narrative flow\n",
        "    prompt = f\"\"\"\n",
        "    You are a business analyst who MUST follow a very specific writing formula.\n",
        "    Analyze the provided \"Press Release Text\" and generate a single paragraph for a SWOT analysis about the company '{company_name}'.\n",
        "\n",
        "    **YOUR TASK IS TO FOLLOW THIS EXACT 5-STEP FORMULA:**\n",
        "\n",
        "    **Step 1: The Opening Sentence.** Start with the date (month year), followed by the company name, the action (e.g., 'has acquired', 'has partnered'), the entity involved, and the immediate purpose.\n",
        "\n",
        "    **Step 2: The Detail Sentence.** In a new sentence, provide a specific, factual detail about the entity mentioned in Step 1.\n",
        "\n",
        "    **Step 3: The \"Would\" Benefit Sentence.** In a new sentence, describe the direct benefit of the action using the word \"would\". **You can use transitional phrases like \"Through this acquisition...\" to start this sentence for better flow.**\n",
        "\n",
        "    **Step 4: The Strategic Benefit Sentence.** In another new sentence, describe the broader strategic benefit or how it helps the company's long-term goals. **You can use transitional phrases like \"Further...\" to start this sentence.**\n",
        "\n",
        "    **Step 5: The Concluding Sentence.** In a final sentence, link the action to a larger company mission or goal.\n",
        "\n",
        "    **DO NOT DEVIATE FROM THIS 5-STEP STRUCTURE. The output MUST be a single paragraph.**\n",
        "\n",
        "    ---\n",
        "    **PERFECT EXAMPLE TO MIMIC:**\n",
        "    {example}\n",
        "    ---\n",
        "\n",
        "    **Press Release Text:**\n",
        "    ---\n",
        "    {text}\n",
        "    ---\n",
        "    \"\"\"\n",
        "\n",
        "    try:\n",
        "        response = model.generate_content(prompt)\n",
        "        print(\"Analysis complete.\")\n",
        "        return response.text.strip()\n",
        "    except Exception as e:\n",
        "        print(f\"An error occurred during AI analysis: {e}\")\n",
        "        return None\n",
        "\n",
        "# --- MODULE 3: SCALABLE SWOT FRAMEWORK (Single, best example) ---\n",
        "# We will now use ONLY your best example to reinforce the template.\n",
        "SWOT_EXAMPLES = {\n",
        "    \"Opportunity\": textwrap.dedent(\"\"\"\n",
        "        in January 2025, Elevance has acquired Indiana University (IU) Health Plans, to enhance its local presence, expanding product offerings. IU Health Plans is a managed care organization created by Indiana University Health which provides Medicare advantage plans to 19,000 people across 36 countries. This acquisition would elevate quality and would expand Elevance's product offerings. This acquisition would strengthen the company’s efforts to cultivate healthier communities and improve health outcomes for those they are privileged to serve. This strategic step is in line with Elevance’s health equity goals and allow it to provide comprehensive access to high-quality care and timely interventions.\n",
        "    \"\"\")\n",
        "}\n",
        "\n",
        "# --- Main Runner Function (No changes) ---\n",
        "def analyze_url_for_swot(url: str, company_name: str, swot_category: str):\n",
        "    if swot_category not in SWOT_EXAMPLES:\n",
        "        print(f\"Error: SWOT category '{swot_category}' is not defined.\")\n",
        "        return\n",
        "    # Note: Using the manual text method since scraping this site is blocked.\n",
        "    article_text = \"\"\"\n",
        "    Elevance Health is continuing its dealmaking streak, this time with the acquisition of Indiana University Health's health plan. IU Health Plans offers Medicare Advantage and commercial plans to employers and individuals in the state, and the deal includes its risk-based and medical management services. The acquisition is expected to close later this year, though financial details were not disclosed. \"The acquisition of IU Health Plans will help us continue to build on our commitment to expanding access to high-quality, affordable healthcare for people in Indiana,\" said Felicia Norwood, executive vice president and president of government health benefits for Elevance Health, in a statement. \"We look forward to the opportunity to leverage our resources and broad networks to provide IU Health Plan members with a high-value, whole-health experience.\" Elevance said it will work with IU Health to ensure a smooth transition for members, who will be able to continue to access IU Health's provider network. Elevance's own provider network will become available to members following the acquisition. Elevance has been on an M&A tear of late, most recently closing its acquisition of specialty pharmacy BioPlus. It also snapped up Blue Cross and Blue Shield of Louisiana in a $2.5 billion deal. The insurer has also been active in the government programs space, acquiring Integra Managed Care in New York.\n",
        "    \"\"\"\n",
        "    example = SWOT_EXAMPLES[swot_category]\n",
        "    swot_paragraph = generate_swot_point(article_text, company_name, swot_category, example)\n",
        "    if swot_paragraph:\n",
        "        print(\"\\n--- Generated SWOT Paragraph ---\\n\")\n",
        "        display(Markdown(swot_paragraph))"
      ],
      "metadata": {
        "id": "Jav_JG0wH8sJ"
      },
      "execution_count": null,
      "outputs": []
    },
    {
      "cell_type": "code",
      "source": [
        "# --- INPUTS: Paste the article text here ---\n",
        "\n",
        "# --- ANALYSIS: Change the company name and SWOT category as needed ---\n",
        "\n",
        "company_name = \"Petrochina Company limited\"\n",
        "swot_category_to_find = \"Opportunity\"\n",
        "\n",
        "# I have copied the text for you from the URL.\n",
        "article_text_manual = \"\"\"\n",
        "Shell, PetroChina Sanction Phase 2 of Surat Gas Project\n",
        "by Jov Onsat|Rigzone Staff | Wednesday, August 14, 2024 | 7:06 AM EST\n",
        "Shell, PetroChina Sanction Phase 2 of Surat Gas Project\n",
        "PetroChina and Shell agreed on an additional investment in the Surat Gas Project, their joint venture in Australia that is targeted to produce about five Tcf of natural gas over 27 years.\n",
        "Image by OleksandrKalinichenko via iStock\n",
        "\n",
        "PetroChina Co. Ltd. and Shell PLC have agreed on an additional investment in the Surat Gas Project (SGP), their joint venture in Australia that is targeted to produce about five trillion cubic feet of natural gas over 27 years.\n",
        "\n",
        "Like phase one, which was approved by the partners 2020, phase two will supply a Shell-operated liquefaction plant on Curtis Island in the state of Queensland, Shell said in a statement. The liquefied natural gas (LNG) is meant for export, but the Surat Gas Project will also deliver gas for the domestic market.\n",
        "\n",
        "Phase two, or SGP North, has an expected peak output of about 130 million cubic feet a day, with up to 450 production wells targeted to be drilled. Shell expects to start production 2026.\n",
        "\n",
        "The Surat Gas Project is operated by the British energy giant and state-backed PetroChina’s 50-50 joint venture Arrow Energy Pty. Ltd.\n",
        "\n",
        "Arrow said in a separate press release construction is scheduled to start later in 2024. The infrastructure will include a new field compression station and a 27-kilometer (16.8 miles) pipeline. Works also include upgrades for roads and other existing infrastructure.\n",
        "\n",
        "Meanwhile phase one, which consists of over 600 wells, has an expected peak production of 90 billion feet a year according to Shell’s announcement of the final investment decision April 17, 2020.\n",
        "\n",
        "The Surat Gas Project, which targets coal seams in the namesake basin, is part of Arrow’s 27-year agreement to supply QCLNG (QCG), the operator of the Queensland LNG facility. QCG is a joint venture operated by Shell with a 73.75 percent stake, with state-owned China National Offshore Oil Corp. and EIG Management LLC owning 25 percent and 1.25 percent respectively. Last year QCG supplied 15 percent of gas demand on Australia’s east coast according to Shell.\n",
        "\n",
        "“QCLNG marked its 1000th cargo at the end of last year, reflecting its significance as a gas supplier for Australia and the region”, said Zoë Yujnovich, director for integrated gas and upstream at Shell. “This investment will enable us to sustain and grow this important, secure energy source that offers a lower emissions alternative to options like coal”.\n",
        "\n",
        "Shell aims to grow its LNG production by 20–30 percent by 2030 relative to 2022, as declared in the company’s Energy Transition Strategy 2024 report.\n",
        "\n",
        "It said in an outlook report February 14, 2024, that it expected global LNG demand to rise by over 50 percent by 2040, driven by an accelerating industrial switch from coal to gas in China and economic growth-driven demand in South and Southeast Asia.\n",
        "\n",
        "“Shell believes LNG will play a critical role in the energy transition, replacing coal in heavy industry”, the company said in the Surat phase two news release. “It also has a continued role in displacing coal in power generation, helping to reduce local air pollution and carbon emissions. LNG helps to provide the flexibility the power system needs, at a time when renewable generation is growing rapidly”.\n",
        "\n",
        "Shell added, “The investment in Phase 2 is expected to generate an internal rate of return in excess of the hurdle rate for Shell’s Integrated Gas business”.\n",
        "\n",
        "Arrow chief executive Zhengxin Peng said about the additional Surat investment, “At a time when more gas is needed for homes, businesses and industries, the SGP North development will solidify Arrow’s position as a major producer of natural gas on the east coast”.\n",
        "\n",
        "On the employment side, Arrow expects to offer up to 400 jobs for phase two.\n",
        "\n",
        "\"\"\""
      ],
      "metadata": {
        "id": "CwEANPaCIAPA"
      },
      "execution_count": null,
      "outputs": []
    },
    {
      "cell_type": "code",
      "source": [
        "# --- RUN THE ANALYSIS (using the manual text) ---\n",
        "\n",
        "if swot_category_to_find in SWOT_EXAMPLES:\n",
        "    examples = SWOT_EXAMPLES[swot_category_to_find]\n",
        "    # We call the AI function directly, skipping the scraper\n",
        "    swot_paragraph = generate_swot_point(article_text_manual, company_name, swot_category_to_find, examples)\n",
        "\n",
        "    if swot_paragraph:\n",
        "        print(\"\\n--- Generated SWOT Paragraph ---\\n\")\n",
        "        display(Markdown(swot_paragraph))\n",
        "else:\n",
        "    print(f\"Error: SWOT category '{swot_category_to_find}' is not defined.\")"
      ],
      "metadata": {
        "colab": {
          "base_uri": "https://localhost:8080/",
          "height": 223
        },
        "id": "MgDMlWTzIPlg",
        "outputId": "44f3c33f-52cc-42c9-a487-3a7a651548a8"
      },
      "execution_count": null,
      "outputs": [
        {
          "output_type": "stream",
          "name": "stdout",
          "text": [
            "Analyzing text for Opportunity regarding Petrochina Company limited...\n",
            "Analysis complete.\n",
            "\n",
            "--- Generated SWOT Paragraph ---\n",
            "\n"
          ]
        },
        {
          "output_type": "display_data",
          "data": {
            "text/plain": [
              "<IPython.core.display.Markdown object>"
            ],
            "text/markdown": "August 2024, PetroChina Company Limited has partnered with Shell PLC, to further develop the Surat Gas Project (SGP) in Australia.  This partnership involves an additional investment in Phase 2 of the project, projected to produce an additional 130 million cubic feet of natural gas per day at its peak.  Through this partnership, PetroChina would significantly increase its natural gas production capacity and secure long-term access to a key energy resource. Further, this strategic move strengthens PetroChina's position in the global LNG market and secures a reliable energy supply to meet growing Asian demand.  This collaboration aligns with PetroChina's broader goal of becoming a major player in the global energy transition by providing a lower-emissions energy source compared to coal."
          },
          "metadata": {}
        }
      ]
    },
    {
      "cell_type": "markdown",
      "source": [
        "#Refined model with weakness integrated"
      ],
      "metadata": {
        "id": "DVmVSWaTOYgf"
      }
    },
    {
      "cell_type": "code",
      "source": [
        "# --- IMPORTS AND CONFIGURATION ---\n",
        "import google.generativeai as genai\n",
        "from google.colab import userdata\n",
        "import textwrap\n",
        "from IPython.display import Markdown\n",
        "\n",
        "# Configure the API Key and AI Model\n",
        "try:\n",
        "    api_key = userdata.get('GOOGLE_API_KEY')\n",
        "    genai.configure(api_key=api_key)\n",
        "    model = genai.GenerativeModel('gemini-1.5-flash')\n",
        "    print(\"AI Model configured successfully.\")\n",
        "except Exception as e:\n",
        "    print(f\"Error during configuration: {e}\")\n",
        "    print(\"Please ensure your GOOGLE_API_KEY is set correctly in Colab Secrets.\")\n",
        "\n",
        "# --- THE STYLE GUIDE (EXAMPLES) ---\n",
        "# This dictionary holds the perfect example for each SWOT category.\n",
        "SWOT_EXAMPLES = {\n",
        "    \"Opportunity\": [\n",
        "        textwrap.dedent(\"\"\"\n",
        "            in January 2025, Elevance has acquired Indiana University (IU) Health Plans, to enhance its local presence, expanding product offerings. IU Health Plans is a managed care organization created by Indiana University Health which provides Medicare advantage plans to 19,000 people across 36 countries. This acquisition would elevate quality and would expand Elevance's product offerings. This acquisition would strengthen the company’s efforts to cultivate healthier communities and improve health outcomes for those they are privileged to serve. This strategic step is in line with Elevance’s health equity goals and allow it to provide comprehensive access to high-quality care and timely interventions.\n",
        "        \"\"\"),\n",
        "        textwrap.dedent(\"\"\"\n",
        "            in September 2024, AT&T has announced its plan to introduce a Wi-Fi 7-capable gateway, to step forward in its commitment to deliver cutting-edge home connectivity. This Wi-Fi would aim to unlock the full potential of AT&T’s multi-gig fiber offerings by improving speed, latency, and the ability to handle next-generation digital services. Through this initiative, the company would be able to solidify its leadership in providing reliable, scalable, and forward-looking broadband solutions for residential users.\n",
        "        \"\"\")\n",
        "    ],\n",
        "    \"Weakness\": [\n",
        "        textwrap.dedent(\"\"\"\n",
        "            BASF has agreed to pay a $700,000 civil penalty, to the U.S. Environmental Protection Agency (EPA) for the violation of the Toxic Substances Control Act (TSCA) related to the group’s chemical reporting obligations. According to EPA findings, BASF did not report required data on hundreds of chemical substances within the mandated timeframe, hindering the agency’s ability to assess potential public health and environmental risks. This settlement reinforces EPA’s commitment to fair but firm enforcement of environmental laws. It also serves as a reminder to the chemical industry of the importance of meeting federal reporting standards.\n",
        "        \"\"\"),\n",
        "        textwrap.dedent(\"\"\"\n",
        "            in January 2025, AT&T has faced a lawsuit filed by Cornell University over a wireless fidelity (WI-FI) patent infringement. The lawsuit alleged that AT&T’s smartphones, routers, and other Wi-Fi-enabled products violate two patents related to Wi-Fi 5 and Wi-Fi 6 standards, which were granted to Cornell University in 2010 and 2011. The university seeks monetary damages and injunctive relief to prevent further use of the patented technology. This lawsuit could result in financial and operational consequences for the company if the court finds in favor of Cornell University.\n",
        "        \"\"\")\n",
        "    ]\n",
        "}\n",
        "\n",
        "# --- THE PROMPT LIBRARY (WRITING FORMULAS) ---\n",
        "# This dictionary holds the unique, step-by-step writing formula for each category.\n",
        "SWOT_PROMPTS = {\n",
        "    \"Opportunity\": \"\"\"\n",
        "    You are a business analyst who MUST follow a very specific writing formula to identify an OPPORTUNITY.\n",
        "    Analyze the provided \"Press Release Text\" and generate a single paragraph.\n",
        "\n",
        "    **YOUR TASK IS TO FOLLOW THIS EXACT 5-STEP FORMULA:**\n",
        "    1.  **The Opening Sentence:** Start with the date, company name, the positive action (e.g., 'has acquired', 'has launched'), the entity involved, and the immediate purpose.\n",
        "    2.  **The Detail Sentence:** Provide a specific, factual detail about the entity or initiative.\n",
        "    3.  **The \"Would\" Benefit Sentence:** Describe the direct benefit using the word \"would\". Use transitional phrases like \"Through this acquisition...\".\n",
        "    4.  **The Strategic Benefit Sentence:** Describe the broader strategic benefit. Use transitional phrases like \"Further...\".\n",
        "    5.  **The Concluding Sentence:** Link the action to a larger company mission or goal.\n",
        "    \"\"\",\n",
        "    \"Weakness\": \"\"\"\n",
        "    You are a business analyst. Your task is to analyze the provided text and write a single paragraph summarizing a company's WEAKNESS, perfectly replicating the user's writing style.\n",
        "\n",
        "    **YOUR TASK IS TO FOLLOW THIS PRECISE 3-PART STRUCTURE:**\n",
        "\n",
        "    1.  **The Negative Event:** In the first sentence, state the date, the company, and the core negative event (e.g., \"faced a lawsuit,\" \"agreed to pay a penalty,\" \"recalled vehicles\").\n",
        "    2.  **The Problem Details:** In the next sentence, provide the specific details of the problem. Use phrases like \"The lawsuit alleged that...\", \"According to EPA findings...\", or \"This recall targets...\" to explain the core issue.\n",
        "    3.  **The Impact and Implications:** In the final sentence(s), describe the outcome. This can be the direct negative consequence for the company (e.g., financial penalties, reputational damage) OR the broader implications for the industry.\n",
        "    \"\"\"\n",
        "}\n",
        "\n",
        "# --- THE AI ANALYSIS ENGINE ---\n",
        "# This function assembles the prompt and calls the AI model.\n",
        "def generate_swot_point(text: str, company_name: str, swot_category: str) -> str:\n",
        "    print(f\"Analyzing text for {swot_category} regarding {company_name}...\")\n",
        "\n",
        "    prompt_formula = SWOT_PROMPTS.get(swot_category)\n",
        "    example_list = SWOT_EXAMPLES.get(swot_category)\n",
        "\n",
        "    if not prompt_formula or not example_list:\n",
        "        return f\"Error: No prompt or examples found for SWOT category '{swot_category}'.\"\n",
        "\n",
        "    # NEW: Format the list of examples into a single block of text for the prompt\n",
        "    formatted_examples = \"\\n\\n---\\n\\n\".join(example_list)\n",
        "\n",
        "    # Assemble the final prompt\n",
        "    final_prompt = f\"\"\"\n",
        "    {prompt_formula}\n",
        "\n",
        "    **You must write the entire output as a single, flowing paragraph. The structure instructions are for the content and sequence of ideas within that paragraph.**\n",
        "\n",
        "    Here are several perfect examples to mimic. Learn the pattern from all of them:\n",
        "    ---\n",
        "    {formatted_examples}\n",
        "    ---\n",
        "\n",
        "    **Press Release Text:**\n",
        "    ---\n",
        "    {text}\n",
        "    ---\n",
        "    \"\"\"\n",
        "\n",
        "    try:\n",
        "        response = model.generate_content(final_prompt)\n",
        "        print(\"Analysis complete.\")\n",
        "        return response.text.strip()\n",
        "    except Exception as e:\n",
        "        print(f\"An error occurred during AI analysis: {e}\")\n",
        "        return None"
      ],
      "metadata": {
        "id": "BoJp9MPqIRaE",
        "colab": {
          "base_uri": "https://localhost:8080/"
        },
        "outputId": "4ecb39de-455b-4258-a1fd-ebc8e1209f68"
      },
      "execution_count": 2,
      "outputs": [
        {
          "output_type": "stream",
          "name": "stdout",
          "text": [
            "AI Model configured successfully.\n"
          ]
        }
      ]
    },
    {
      "cell_type": "code",
      "source": [
        "# --- 1. SET YOUR COMPANY NAME ---\n",
        "company_name = \"Reliance Industries\"\n",
        "\n",
        "# --- 2. PASTE YOUR ARTICLE TEXTS BELOW ---\n",
        "\n",
        "# A LIST for multiple opportunities\n",
        "opportunity_texts = [\n",
        "    \"\"\"\n",
        "    DP WORLD AND RELIANCE INDUSTRIES PARTNER ON INNOVATIVE RAIL SOLUTION\n",
        "21March2025\n",
        "\n",
        "\n",
        "DP World and India’s Reliance Industries have teamed up to launch an innovative logistics solution for the petrochemicals industry, shifting product transport from road to rail, significantly cutting carbon emissions while enhancing operational efficiency.\n",
        "\n",
        "The new solution connects Reliance Industries’ Jamnagar plant in Gujarat to DP World’s inland container depot (ICD) in Ahmedabad and onward to the port of Mundra. Previously, the Mundra-Jamnagar-Mundra round trip involved approximately 700km of road transport for each container. With the new solution, the Ahmedabad-Jamnagar-Mundra route, also approximately 700km, has been converted to rail. This transition eliminates the environmental and operational challenges associated with long-distance road transport while maintaining the same coverage.\n",
        "\n",
        "The integrated rail service enables the transport of up to 1260 tonnes of cargo and consolidates up to 45 containers in a single movement, streamlining logistics and reducing the need for multiple trailers and drivers. This not only cuts down on transportation costs but also ensures seamless vessel connectivity for timely exports. By reducing over 700km of road transport per container, the rail solution significantly reduces carbon emissions and contributes to Reliance’s environmental goals.\n",
        "\n",
        "Ganesh Raj, Global Chief Operating Officer, DP World Marine Services, said: “This service exemplifies DP World’s ability to solve complex logistics challenges for leading companies like Reliance Industries. By leveraging our multimodal assets and expertise, we have delivered a tailored, cost-effective alternative to road transport that enhances supply chain reliability, streamlines operations, and reduces environmental impact. This innovative approach not only aligns with Reliance’s sustainability commitments but also ensures greater efficiency, seamless coordination, and timely exports to support their growing operational demands.”\n",
        "\n",
        "Ravikumar Nair, Head SCM Operations, Reliance Industries Ltd - Petchem said: “DP World’s innovative approach has provided us with a logistics solution that addresses critical operational needs while advancing our sustainability objectives. The shift from road to rail has streamlined our operations, reduced carbon emissions, reduced road exposure by eliminating 45 road trailer movement, and reinforced our commitment to responsible and efficient supply chain practices.”\n",
        "\n",
        "Spanning over a decade, this collaboration is an extension of the longstanding partnership between Reliance Industries Ltd and Unifeeder, a DP World company, which acts as Reliance’s primary logistics service provider. By integrating DP World’s rail services and leveraging the ICD in Ahmedabad, Unifeeder ensures seamless operations for Reliance. The new rail service is part of a long-term contract, with plans to expand capacity and offer more flexibility to meet Reliance’s growing logistics needs.\n",
        "\n",
        "Adhendru Jain, Vice President of Rail and Inland Terminals, DP World Subcontinent, added: “We are committed to providing customers with integrated solutions that make supply chains resilient and sustainable. The newly flagged coastal-rail integrated service not only fulfils Reliance Industries' efficiency requirements but also ensures sustainable cargo movement. We are confident that this multimodal solution will drive significant value for Reliance Industries and inspire more businesses to adopt a multimodal approach towards making their supply chains agile, reliable, and sustainable.”\n",
        "    \"\"\",\n",
        "    \"\"\"\n",
        "\n",
        "    Reliance widens DP World ties for eco-friendly rail logistics solution\n",
        "Under the new plan, the Ahmedabad-Jamnagar-Mundra route, also approximately 700km, has been converted to rail\n",
        "Our Special Correspondent Published 22.03.25, 10:16 AM\n",
        "Representational image\n",
        "Representational image\n",
        "File image\n",
        "\n",
        "Reliance Industries extended their longstanding relation with Dubai’s DP World to launch a logistics solution for the Jamnagar refinery, shifting product transport from road to rail, which will cut carbon emissions and enhance operational efficiency.\n",
        "\n",
        "A rail network will now connect RIL’s Jamnagar refinery in Gujarat to DP World’s inland container depot (ICD) in Ahmedabad and onward to Mundra port. Previously, the Mundra-Jamnagar-Mundra round trip involved approximately 700 kilometres of road transport for each container.\n",
        "\n",
        "ADVERTISEMENT\n",
        "\n",
        "Under the new plan, the Ahmedabad-Jamnagar-Mundra route, also approximately 700km, has been converted to rail. This transition eliminates the environmental and operational challenges associated with long-distance road transport while maintaining the same coverage.\n",
        "\n",
        "The integrated rail service enables the transport of up to 1,260 tonnes of cargo and consolidates up to 45 containers in a single movement, streamlining logistics and reducing the need for multiple trailers and drivers.\n",
        "\n",
        "Advertisement\n",
        "\n",
        "This will not only cut down on transportation costs but ensure seamless vessel connectivity for timely exports. Reliance is a big re-exporter of refined products from India. By reducing over 700km of road transport per container, the rail solution will also reduce carbon emissions and contribute to Reliance’s environmental goals.\n",
        "\n",
        "Adani Energy\n",
        "\n",
        "Adani Energy Solutions has bagged a ₹2,800 crore power transmission contract from Gujarat, taking its order book to ₹57,561 crore.\n",
        "\n",
        "The project entails supply of green electrons for manufacturing green hydrogen and ammonia at Mundra in Gujarat. It will involve upgrading the Navinal (Mundra) electrical substation by adding two large transformers, among others.\n",
        "\n",
        "\n",
        "    \"\"\"\n",
        "]\n",
        "\n",
        "# A SINGLE input for weakness\n",
        "weakness_text_input = \"\"\"\n",
        "\n",
        "\n",
        "\n",
        "\"\"\""
      ],
      "metadata": {
        "id": "HtSxgTEFOhm3"
      },
      "execution_count": 9,
      "outputs": []
    },
    {
      "cell_type": "code",
      "source": [
        "# --- This cell automatically analyzes all texts provided in the cell above ---\n",
        "# --- You do not need to edit this cell ---\n",
        "\n",
        "print(\"--- Starting SWOT Analysis ---\")\n",
        "\n",
        "# --- Analyze for Opportunities (handles a list) ---\n",
        "if opportunity_texts and any(text.strip() for text in opportunity_texts):\n",
        "    print(\"\\nFound texts for Opportunity. Processing...\")\n",
        "    # Loop through each text in the list\n",
        "    for i, text in enumerate(opportunity_texts, 1):\n",
        "        if text.strip(): # Ensure the specific text is not empty\n",
        "            print(f\"\\n--- Analyzing Opportunity #{i} ---\")\n",
        "            swot_paragraph = generate_swot_point(text, company_name, \"Opportunity\")\n",
        "            if swot_paragraph:\n",
        "                print(f\"\\n--- Generated Opportunity Paragraph #{i} ---\")\n",
        "                display(Markdown(swot_paragraph))\n",
        "else:\n",
        "    print(\"\\nNo inputs provided for Opportunity. Skipping.\")\n",
        "\n",
        "# --- Analyze for Weakness (handles a single text) ---\n",
        "if weakness_text_input.strip():\n",
        "    print(\"\\nFound text for Weakness. Analyzing...\")\n",
        "    swot_paragraph = generate_swot_point(weakness_text_input, company_name, \"Weakness\")\n",
        "    if swot_paragraph:\n",
        "        print(\"\\n--- Generated Weakness Paragraph ---\")\n",
        "        display(Markdown(swot_paragraph))\n",
        "else:\n",
        "    print(\"\\nNo input provided for Weakness. Skipping.\")\n",
        "\n",
        "print(\"\\n\\n--- Analysis Complete ---\")"
      ],
      "metadata": {
        "colab": {
          "base_uri": "https://localhost:8080/",
          "height": 596
        },
        "id": "794Co5juOm1r",
        "outputId": "1698249c-7b3f-4f11-9aa1-85ed797d0927"
      },
      "execution_count": 10,
      "outputs": [
        {
          "output_type": "stream",
          "name": "stdout",
          "text": [
            "--- Starting SWOT Analysis ---\n",
            "\n",
            "Found texts for Opportunity. Processing...\n",
            "\n",
            "--- Analyzing Opportunity #1 ---\n",
            "Analyzing text for Opportunity regarding Reliance Industries...\n",
            "Analysis complete.\n",
            "\n",
            "--- Generated Opportunity Paragraph #1 ---\n"
          ]
        },
        {
          "output_type": "display_data",
          "data": {
            "text/plain": [
              "<IPython.core.display.Markdown object>"
            ],
            "text/markdown": "On March 21, 2025, DP World and Reliance Industries launched an innovative rail logistics solution for the petrochemicals industry to reduce carbon emissions and enhance operational efficiency.  This solution shifts product transport from road to rail, connecting Reliance’s Jamnagar plant to DP World’s Ahmedabad ICD and the port of Mundra, eliminating approximately 700km of road transport per container. Through this initiative, DP World and Reliance would significantly reduce their carbon footprint and transportation costs while improving supply chain reliability. Further, this collaboration strengthens both companies' commitment to sustainable and efficient operations, streamlining logistics and ensuring timely exports. This successful partnership aligns with both companies’ broader goals of promoting environmentally responsible and cost-effective supply chain management within the petrochemicals sector."
          },
          "metadata": {}
        },
        {
          "output_type": "stream",
          "name": "stdout",
          "text": [
            "\n",
            "--- Analyzing Opportunity #2 ---\n",
            "Analyzing text for Opportunity regarding Reliance Industries...\n",
            "Analysis complete.\n",
            "\n",
            "--- Generated Opportunity Paragraph #2 ---\n"
          ]
        },
        {
          "output_type": "display_data",
          "data": {
            "text/plain": [
              "<IPython.core.display.Markdown object>"
            ],
            "text/markdown": "On March 22, 2025, Reliance Industries launched a new eco-friendly rail logistics solution in partnership with DP World, to improve the transport of products from its Jamnagar refinery.  This solution replaces approximately 700 kilometers of road transport with a rail network connecting the refinery to DP World's inland container depot in Ahmedabad and Mundra port. Through this initiative, Reliance would significantly reduce carbon emissions and enhance operational efficiency by consolidating up to 45 containers in a single rail movement.  Further, this streamlined logistics system would lower transportation costs and ensure seamless vessel connectivity for timely exports. This strategic partnership aligns with Reliance's commitment to environmental sustainability and its broader goal of optimizing its supply chain operations."
          },
          "metadata": {}
        },
        {
          "output_type": "stream",
          "name": "stdout",
          "text": [
            "\n",
            "No input provided for Weakness. Skipping.\n",
            "\n",
            "\n",
            "--- Analysis Complete ---\n"
          ]
        }
      ]
    },
    {
      "cell_type": "code",
      "source": [],
      "metadata": {
        "id": "J6xu-ekUOp0Q"
      },
      "execution_count": null,
      "outputs": []
    }
  ]
}